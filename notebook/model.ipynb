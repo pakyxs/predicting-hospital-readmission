{
  "cells": [
    {
      "cell_type": "markdown",
      "metadata": {
        "id": "wBStmGJ1lf28"
      },
      "source": [
        "# Preprocessing Data"
      ]
    },
    {
      "cell_type": "code",
      "execution_count": 1,
      "metadata": {
        "colab": {
          "base_uri": "https://localhost:8080/"
        },
        "id": "boUhlYeklf3E",
        "outputId": "5f05b802-64b6-48c9-c14a-7b140c0f0f15"
      },
      "outputs": [
        {
          "name": "stderr",
          "output_type": "stream",
          "text": [
            "c:\\Users\\Rodri\\miniconda3\\lib\\site-packages\\tqdm\\auto.py:22: TqdmWarning: IProgress not found. Please update jupyter and ipywidgets. See https://ipywidgets.readthedocs.io/en/stable/user_install.html\n",
            "  from .autonotebook import tqdm as notebook_tqdm\n"
          ]
        }
      ],
      "source": [
        "import pandas as pd\n",
        "import numpy as np\n",
        "import os\n",
        "import seaborn as sns\n",
        "import matplotlib.pyplot as plt\n",
        "from scipy.stats import zscore\n",
        "from sklearn.model_selection import train_test_split\n",
        "from sklearn.metrics import accuracy_score, confusion_matrix, classification_report, f1_score\n",
        "from sklearn.preprocessing import StandardScaler\n",
        "from sklearn.linear_model import LogisticRegression\n",
        "from sklearn.svm import SVC\n",
        "import xgboost as xgb\n",
        "import optuna\n"
      ]
    },
    {
      "cell_type": "code",
      "execution_count": 2,
      "metadata": {
        "colab": {
          "base_uri": "https://localhost:8080/"
        },
        "id": "Ut536xfPlf3K",
        "outputId": "a34a0ac2-834d-450b-904f-99f7abc1e723"
      },
      "outputs": [
        {
          "name": "stderr",
          "output_type": "stream",
          "text": [
            "C:\\Users\\Rodri\\AppData\\Local\\Temp\\ipykernel_19952\\1400281466.py:5: DtypeWarning: Columns (10) have mixed types. Specify dtype option on import or set low_memory=False.\n",
            "  original_df = pd.read_csv(file_path)\n"
          ]
        }
      ],
      "source": [
        "# Read the file\n",
        "# workdir = os.getcwd()  # Get the current working directory\n",
        "# file_path = os.path.join(workdir, './dataset/diabetic_data.csv')  # Join the workdir and filename\n",
        "file_path = 'https://archive.ics.uci.edu/static/public/296/data.csv'\n",
        "original_df = pd.read_csv(file_path)\n",
        "\n",
        "df = original_df.copy(deep=True)"
      ]
    },
    {
      "cell_type": "code",
      "execution_count": 3,
      "metadata": {
        "colab": {
          "base_uri": "https://localhost:8080/",
          "height": 360
        },
        "id": "_5xUa4POlf3M",
        "outputId": "2f67de87-0713-43ac-9c67-a5ebf4bacad4"
      },
      "outputs": [
        {
          "data": {
            "text/html": [
              "<div>\n",
              "<style scoped>\n",
              "    .dataframe tbody tr th:only-of-type {\n",
              "        vertical-align: middle;\n",
              "    }\n",
              "\n",
              "    .dataframe tbody tr th {\n",
              "        vertical-align: top;\n",
              "    }\n",
              "\n",
              "    .dataframe thead th {\n",
              "        text-align: right;\n",
              "    }\n",
              "</style>\n",
              "<table border=\"1\" class=\"dataframe\">\n",
              "  <thead>\n",
              "    <tr style=\"text-align: right;\">\n",
              "      <th></th>\n",
              "      <th>encounter_id</th>\n",
              "      <th>patient_nbr</th>\n",
              "      <th>race</th>\n",
              "      <th>gender</th>\n",
              "      <th>age</th>\n",
              "      <th>weight</th>\n",
              "      <th>admission_type_id</th>\n",
              "      <th>discharge_disposition_id</th>\n",
              "      <th>admission_source_id</th>\n",
              "      <th>time_in_hospital</th>\n",
              "      <th>...</th>\n",
              "      <th>citoglipton</th>\n",
              "      <th>insulin</th>\n",
              "      <th>glyburide-metformin</th>\n",
              "      <th>glipizide-metformin</th>\n",
              "      <th>glimepiride-pioglitazone</th>\n",
              "      <th>metformin-rosiglitazone</th>\n",
              "      <th>metformin-pioglitazone</th>\n",
              "      <th>change</th>\n",
              "      <th>diabetesMed</th>\n",
              "      <th>readmitted</th>\n",
              "    </tr>\n",
              "  </thead>\n",
              "  <tbody>\n",
              "    <tr>\n",
              "      <th>0</th>\n",
              "      <td>2278392</td>\n",
              "      <td>8222157</td>\n",
              "      <td>Caucasian</td>\n",
              "      <td>Female</td>\n",
              "      <td>[0-10)</td>\n",
              "      <td>NaN</td>\n",
              "      <td>6</td>\n",
              "      <td>25</td>\n",
              "      <td>1</td>\n",
              "      <td>1</td>\n",
              "      <td>...</td>\n",
              "      <td>No</td>\n",
              "      <td>No</td>\n",
              "      <td>No</td>\n",
              "      <td>No</td>\n",
              "      <td>No</td>\n",
              "      <td>No</td>\n",
              "      <td>No</td>\n",
              "      <td>No</td>\n",
              "      <td>No</td>\n",
              "      <td>NO</td>\n",
              "    </tr>\n",
              "    <tr>\n",
              "      <th>1</th>\n",
              "      <td>149190</td>\n",
              "      <td>55629189</td>\n",
              "      <td>Caucasian</td>\n",
              "      <td>Female</td>\n",
              "      <td>[10-20)</td>\n",
              "      <td>NaN</td>\n",
              "      <td>1</td>\n",
              "      <td>1</td>\n",
              "      <td>7</td>\n",
              "      <td>3</td>\n",
              "      <td>...</td>\n",
              "      <td>No</td>\n",
              "      <td>Up</td>\n",
              "      <td>No</td>\n",
              "      <td>No</td>\n",
              "      <td>No</td>\n",
              "      <td>No</td>\n",
              "      <td>No</td>\n",
              "      <td>Ch</td>\n",
              "      <td>Yes</td>\n",
              "      <td>&gt;30</td>\n",
              "    </tr>\n",
              "    <tr>\n",
              "      <th>2</th>\n",
              "      <td>64410</td>\n",
              "      <td>86047875</td>\n",
              "      <td>AfricanAmerican</td>\n",
              "      <td>Female</td>\n",
              "      <td>[20-30)</td>\n",
              "      <td>NaN</td>\n",
              "      <td>1</td>\n",
              "      <td>1</td>\n",
              "      <td>7</td>\n",
              "      <td>2</td>\n",
              "      <td>...</td>\n",
              "      <td>No</td>\n",
              "      <td>No</td>\n",
              "      <td>No</td>\n",
              "      <td>No</td>\n",
              "      <td>No</td>\n",
              "      <td>No</td>\n",
              "      <td>No</td>\n",
              "      <td>No</td>\n",
              "      <td>Yes</td>\n",
              "      <td>NO</td>\n",
              "    </tr>\n",
              "    <tr>\n",
              "      <th>3</th>\n",
              "      <td>500364</td>\n",
              "      <td>82442376</td>\n",
              "      <td>Caucasian</td>\n",
              "      <td>Male</td>\n",
              "      <td>[30-40)</td>\n",
              "      <td>NaN</td>\n",
              "      <td>1</td>\n",
              "      <td>1</td>\n",
              "      <td>7</td>\n",
              "      <td>2</td>\n",
              "      <td>...</td>\n",
              "      <td>No</td>\n",
              "      <td>Up</td>\n",
              "      <td>No</td>\n",
              "      <td>No</td>\n",
              "      <td>No</td>\n",
              "      <td>No</td>\n",
              "      <td>No</td>\n",
              "      <td>Ch</td>\n",
              "      <td>Yes</td>\n",
              "      <td>NO</td>\n",
              "    </tr>\n",
              "    <tr>\n",
              "      <th>4</th>\n",
              "      <td>16680</td>\n",
              "      <td>42519267</td>\n",
              "      <td>Caucasian</td>\n",
              "      <td>Male</td>\n",
              "      <td>[40-50)</td>\n",
              "      <td>NaN</td>\n",
              "      <td>1</td>\n",
              "      <td>1</td>\n",
              "      <td>7</td>\n",
              "      <td>1</td>\n",
              "      <td>...</td>\n",
              "      <td>No</td>\n",
              "      <td>Steady</td>\n",
              "      <td>No</td>\n",
              "      <td>No</td>\n",
              "      <td>No</td>\n",
              "      <td>No</td>\n",
              "      <td>No</td>\n",
              "      <td>Ch</td>\n",
              "      <td>Yes</td>\n",
              "      <td>NO</td>\n",
              "    </tr>\n",
              "  </tbody>\n",
              "</table>\n",
              "<p>5 rows × 50 columns</p>\n",
              "</div>"
            ],
            "text/plain": [
              "   encounter_id  patient_nbr             race  gender      age weight  \\\n",
              "0       2278392      8222157        Caucasian  Female   [0-10)    NaN   \n",
              "1        149190     55629189        Caucasian  Female  [10-20)    NaN   \n",
              "2         64410     86047875  AfricanAmerican  Female  [20-30)    NaN   \n",
              "3        500364     82442376        Caucasian    Male  [30-40)    NaN   \n",
              "4         16680     42519267        Caucasian    Male  [40-50)    NaN   \n",
              "\n",
              "   admission_type_id  discharge_disposition_id  admission_source_id  \\\n",
              "0                  6                        25                    1   \n",
              "1                  1                         1                    7   \n",
              "2                  1                         1                    7   \n",
              "3                  1                         1                    7   \n",
              "4                  1                         1                    7   \n",
              "\n",
              "   time_in_hospital  ... citoglipton insulin  glyburide-metformin  \\\n",
              "0                 1  ...          No      No                   No   \n",
              "1                 3  ...          No      Up                   No   \n",
              "2                 2  ...          No      No                   No   \n",
              "3                 2  ...          No      Up                   No   \n",
              "4                 1  ...          No  Steady                   No   \n",
              "\n",
              "   glipizide-metformin  glimepiride-pioglitazone  metformin-rosiglitazone  \\\n",
              "0                   No                        No                       No   \n",
              "1                   No                        No                       No   \n",
              "2                   No                        No                       No   \n",
              "3                   No                        No                       No   \n",
              "4                   No                        No                       No   \n",
              "\n",
              "   metformin-pioglitazone  change diabetesMed readmitted  \n",
              "0                      No      No          No         NO  \n",
              "1                      No      Ch         Yes        >30  \n",
              "2                      No      No         Yes         NO  \n",
              "3                      No      Ch         Yes         NO  \n",
              "4                      No      Ch         Yes         NO  \n",
              "\n",
              "[5 rows x 50 columns]"
            ]
          },
          "execution_count": 3,
          "metadata": {},
          "output_type": "execute_result"
        }
      ],
      "source": [
        "df.head()"
      ]
    },
    {
      "cell_type": "code",
      "execution_count": 4,
      "metadata": {
        "colab": {
          "base_uri": "https://localhost:8080/"
        },
        "id": "1Me9pNMkqKvH",
        "outputId": "199a1b91-1e48-4987-85e9-0b54b8e0aa9a"
      },
      "outputs": [
        {
          "name": "stdout",
          "output_type": "stream",
          "text": [
            "<class 'pandas.core.frame.DataFrame'>\n",
            "RangeIndex: 101766 entries, 0 to 101765\n",
            "Data columns (total 50 columns):\n",
            " #   Column                    Non-Null Count   Dtype \n",
            "---  ------                    --------------   ----- \n",
            " 0   encounter_id              101766 non-null  int64 \n",
            " 1   patient_nbr               101766 non-null  int64 \n",
            " 2   race                      99493 non-null   object\n",
            " 3   gender                    101766 non-null  object\n",
            " 4   age                       101766 non-null  object\n",
            " 5   weight                    3197 non-null    object\n",
            " 6   admission_type_id         101766 non-null  int64 \n",
            " 7   discharge_disposition_id  101766 non-null  int64 \n",
            " 8   admission_source_id       101766 non-null  int64 \n",
            " 9   time_in_hospital          101766 non-null  int64 \n",
            " 10  payer_code                61510 non-null   object\n",
            " 11  medical_specialty         51817 non-null   object\n",
            " 12  num_lab_procedures        101766 non-null  int64 \n",
            " 13  num_procedures            101766 non-null  int64 \n",
            " 14  num_medications           101766 non-null  int64 \n",
            " 15  number_outpatient         101766 non-null  int64 \n",
            " 16  number_emergency          101766 non-null  int64 \n",
            " 17  number_inpatient          101766 non-null  int64 \n",
            " 18  diag_1                    101745 non-null  object\n",
            " 19  diag_2                    101408 non-null  object\n",
            " 20  diag_3                    100343 non-null  object\n",
            " 21  number_diagnoses          101766 non-null  int64 \n",
            " 22  max_glu_serum             101766 non-null  object\n",
            " 23  A1Cresult                 101766 non-null  object\n",
            " 24  metformin                 101766 non-null  object\n",
            " 25  repaglinide               101766 non-null  object\n",
            " 26  nateglinide               101766 non-null  object\n",
            " 27  chlorpropamide            101766 non-null  object\n",
            " 28  glimepiride               101766 non-null  object\n",
            " 29  acetohexamide             101766 non-null  object\n",
            " 30  glipizide                 101766 non-null  object\n",
            " 31  glyburide                 101766 non-null  object\n",
            " 32  tolbutamide               101766 non-null  object\n",
            " 33  pioglitazone              101766 non-null  object\n",
            " 34  rosiglitazone             101766 non-null  object\n",
            " 35  acarbose                  101766 non-null  object\n",
            " 36  miglitol                  101766 non-null  object\n",
            " 37  troglitazone              101766 non-null  object\n",
            " 38  tolazamide                101766 non-null  object\n",
            " 39  examide                   101766 non-null  object\n",
            " 40  citoglipton               101766 non-null  object\n",
            " 41  insulin                   101766 non-null  object\n",
            " 42  glyburide-metformin       101766 non-null  object\n",
            " 43  glipizide-metformin       101766 non-null  object\n",
            " 44  glimepiride-pioglitazone  101766 non-null  object\n",
            " 45  metformin-rosiglitazone   101766 non-null  object\n",
            " 46  metformin-pioglitazone    101766 non-null  object\n",
            " 47  change                    101766 non-null  object\n",
            " 48  diabetesMed               101766 non-null  object\n",
            " 49  readmitted                101766 non-null  object\n",
            "dtypes: int64(13), object(37)\n",
            "memory usage: 38.8+ MB\n"
          ]
        }
      ],
      "source": [
        "df.info()"
      ]
    },
    {
      "cell_type": "markdown",
      "metadata": {
        "id": "GOvSxjcNqW0m"
      },
      "source": [
        "The columns race, age, weight, payer_code, medical_specialty has null values"
      ]
    },
    {
      "cell_type": "code",
      "execution_count": 5,
      "metadata": {
        "colab": {
          "base_uri": "https://localhost:8080/"
        },
        "id": "oSzwuMj4n3H5",
        "outputId": "1950bdee-fd31-4b60-acfd-77a7024391d6"
      },
      "outputs": [
        {
          "name": "stdout",
          "output_type": "stream",
          "text": [
            "<class 'pandas.core.frame.DataFrame'>\n",
            "RangeIndex: 101766 entries, 0 to 101765\n",
            "Data columns (total 50 columns):\n",
            " #   Column                    Non-Null Count   Dtype \n",
            "---  ------                    --------------   ----- \n",
            " 0   encounter_id              101766 non-null  int64 \n",
            " 1   patient_nbr               101766 non-null  int64 \n",
            " 2   race                      101766 non-null  object\n",
            " 3   gender                    101766 non-null  object\n",
            " 4   age                       101766 non-null  object\n",
            " 5   weight                    101766 non-null  object\n",
            " 6   admission_type_id         101766 non-null  int64 \n",
            " 7   discharge_disposition_id  101766 non-null  int64 \n",
            " 8   admission_source_id       101766 non-null  int64 \n",
            " 9   time_in_hospital          101766 non-null  int64 \n",
            " 10  payer_code                101766 non-null  object\n",
            " 11  medical_specialty         101766 non-null  object\n",
            " 12  num_lab_procedures        101766 non-null  int64 \n",
            " 13  num_procedures            101766 non-null  int64 \n",
            " 14  num_medications           101766 non-null  int64 \n",
            " 15  number_outpatient         101766 non-null  int64 \n",
            " 16  number_emergency          101766 non-null  int64 \n",
            " 17  number_inpatient          101766 non-null  int64 \n",
            " 18  diag_1                    101766 non-null  object\n",
            " 19  diag_2                    101766 non-null  object\n",
            " 20  diag_3                    101766 non-null  object\n",
            " 21  number_diagnoses          101766 non-null  int64 \n",
            " 22  max_glu_serum             101766 non-null  object\n",
            " 23  A1Cresult                 101766 non-null  object\n",
            " 24  metformin                 101766 non-null  object\n",
            " 25  repaglinide               101766 non-null  object\n",
            " 26  nateglinide               101766 non-null  object\n",
            " 27  chlorpropamide            101766 non-null  object\n",
            " 28  glimepiride               101766 non-null  object\n",
            " 29  acetohexamide             101766 non-null  object\n",
            " 30  glipizide                 101766 non-null  object\n",
            " 31  glyburide                 101766 non-null  object\n",
            " 32  tolbutamide               101766 non-null  object\n",
            " 33  pioglitazone              101766 non-null  object\n",
            " 34  rosiglitazone             101766 non-null  object\n",
            " 35  acarbose                  101766 non-null  object\n",
            " 36  miglitol                  101766 non-null  object\n",
            " 37  troglitazone              101766 non-null  object\n",
            " 38  tolazamide                101766 non-null  object\n",
            " 39  examide                   101766 non-null  object\n",
            " 40  citoglipton               101766 non-null  object\n",
            " 41  insulin                   101766 non-null  object\n",
            " 42  glyburide-metformin       101766 non-null  object\n",
            " 43  glipizide-metformin       101766 non-null  object\n",
            " 44  glimepiride-pioglitazone  101766 non-null  object\n",
            " 45  metformin-rosiglitazone   101766 non-null  object\n",
            " 46  metformin-pioglitazone    101766 non-null  object\n",
            " 47  change                    101766 non-null  object\n",
            " 48  diabetesMed               101766 non-null  object\n",
            " 49  readmitted                101766 non-null  object\n",
            "dtypes: int64(13), object(37)\n",
            "memory usage: 38.8+ MB\n"
          ]
        }
      ],
      "source": [
        "# Reeplace nan to '?'\n",
        "df.fillna('?',inplace=True)\n",
        "df.info()"
      ]
    },
    {
      "cell_type": "markdown",
      "metadata": {
        "id": "UlaIEOA-uUHR"
      },
      "source": [
        "The columns 'payer_code', 'medical_specialty' by definition do not provide patient information, they will be discarded."
      ]
    },
    {
      "cell_type": "code",
      "execution_count": 6,
      "metadata": {
        "colab": {
          "base_uri": "https://localhost:8080/",
          "height": 461
        },
        "id": "w3DgkMWNqxeT",
        "outputId": "d4aed19c-40f6-49b1-d150-9b7280cc5d2f"
      },
      "outputs": [
        {
          "data": {
            "text/html": [
              "<div>\n",
              "<style scoped>\n",
              "    .dataframe tbody tr th:only-of-type {\n",
              "        vertical-align: middle;\n",
              "    }\n",
              "\n",
              "    .dataframe tbody tr th {\n",
              "        vertical-align: top;\n",
              "    }\n",
              "\n",
              "    .dataframe thead th {\n",
              "        text-align: right;\n",
              "    }\n",
              "</style>\n",
              "<table border=\"1\" class=\"dataframe\">\n",
              "  <thead>\n",
              "    <tr style=\"text-align: right;\">\n",
              "      <th></th>\n",
              "      <th>encounter_id</th>\n",
              "      <th>patient_nbr</th>\n",
              "      <th>race</th>\n",
              "      <th>gender</th>\n",
              "      <th>age</th>\n",
              "      <th>weight</th>\n",
              "      <th>admission_type_id</th>\n",
              "      <th>discharge_disposition_id</th>\n",
              "      <th>admission_source_id</th>\n",
              "      <th>time_in_hospital</th>\n",
              "      <th>...</th>\n",
              "      <th>citoglipton</th>\n",
              "      <th>insulin</th>\n",
              "      <th>glyburide-metformin</th>\n",
              "      <th>glipizide-metformin</th>\n",
              "      <th>glimepiride-pioglitazone</th>\n",
              "      <th>metformin-rosiglitazone</th>\n",
              "      <th>metformin-pioglitazone</th>\n",
              "      <th>change</th>\n",
              "      <th>diabetesMed</th>\n",
              "      <th>readmitted</th>\n",
              "    </tr>\n",
              "  </thead>\n",
              "  <tbody>\n",
              "    <tr>\n",
              "      <th>count</th>\n",
              "      <td>1.017660e+05</td>\n",
              "      <td>1.017660e+05</td>\n",
              "      <td>101766</td>\n",
              "      <td>101766</td>\n",
              "      <td>101766</td>\n",
              "      <td>101766</td>\n",
              "      <td>101766.000000</td>\n",
              "      <td>101766.000000</td>\n",
              "      <td>101766.000000</td>\n",
              "      <td>101766.000000</td>\n",
              "      <td>...</td>\n",
              "      <td>101766</td>\n",
              "      <td>101766</td>\n",
              "      <td>101766</td>\n",
              "      <td>101766</td>\n",
              "      <td>101766</td>\n",
              "      <td>101766</td>\n",
              "      <td>101766</td>\n",
              "      <td>101766</td>\n",
              "      <td>101766</td>\n",
              "      <td>101766</td>\n",
              "    </tr>\n",
              "    <tr>\n",
              "      <th>unique</th>\n",
              "      <td>NaN</td>\n",
              "      <td>NaN</td>\n",
              "      <td>6</td>\n",
              "      <td>3</td>\n",
              "      <td>10</td>\n",
              "      <td>10</td>\n",
              "      <td>NaN</td>\n",
              "      <td>NaN</td>\n",
              "      <td>NaN</td>\n",
              "      <td>NaN</td>\n",
              "      <td>...</td>\n",
              "      <td>1</td>\n",
              "      <td>4</td>\n",
              "      <td>4</td>\n",
              "      <td>2</td>\n",
              "      <td>2</td>\n",
              "      <td>2</td>\n",
              "      <td>2</td>\n",
              "      <td>2</td>\n",
              "      <td>2</td>\n",
              "      <td>3</td>\n",
              "    </tr>\n",
              "    <tr>\n",
              "      <th>top</th>\n",
              "      <td>NaN</td>\n",
              "      <td>NaN</td>\n",
              "      <td>Caucasian</td>\n",
              "      <td>Female</td>\n",
              "      <td>[70-80)</td>\n",
              "      <td>?</td>\n",
              "      <td>NaN</td>\n",
              "      <td>NaN</td>\n",
              "      <td>NaN</td>\n",
              "      <td>NaN</td>\n",
              "      <td>...</td>\n",
              "      <td>No</td>\n",
              "      <td>No</td>\n",
              "      <td>No</td>\n",
              "      <td>No</td>\n",
              "      <td>No</td>\n",
              "      <td>No</td>\n",
              "      <td>No</td>\n",
              "      <td>No</td>\n",
              "      <td>Yes</td>\n",
              "      <td>NO</td>\n",
              "    </tr>\n",
              "    <tr>\n",
              "      <th>freq</th>\n",
              "      <td>NaN</td>\n",
              "      <td>NaN</td>\n",
              "      <td>76099</td>\n",
              "      <td>54708</td>\n",
              "      <td>26068</td>\n",
              "      <td>98569</td>\n",
              "      <td>NaN</td>\n",
              "      <td>NaN</td>\n",
              "      <td>NaN</td>\n",
              "      <td>NaN</td>\n",
              "      <td>...</td>\n",
              "      <td>101766</td>\n",
              "      <td>47383</td>\n",
              "      <td>101060</td>\n",
              "      <td>101753</td>\n",
              "      <td>101765</td>\n",
              "      <td>101764</td>\n",
              "      <td>101765</td>\n",
              "      <td>54755</td>\n",
              "      <td>78363</td>\n",
              "      <td>54864</td>\n",
              "    </tr>\n",
              "    <tr>\n",
              "      <th>mean</th>\n",
              "      <td>1.652016e+08</td>\n",
              "      <td>5.433040e+07</td>\n",
              "      <td>NaN</td>\n",
              "      <td>NaN</td>\n",
              "      <td>NaN</td>\n",
              "      <td>NaN</td>\n",
              "      <td>2.024006</td>\n",
              "      <td>3.715642</td>\n",
              "      <td>5.754437</td>\n",
              "      <td>4.395987</td>\n",
              "      <td>...</td>\n",
              "      <td>NaN</td>\n",
              "      <td>NaN</td>\n",
              "      <td>NaN</td>\n",
              "      <td>NaN</td>\n",
              "      <td>NaN</td>\n",
              "      <td>NaN</td>\n",
              "      <td>NaN</td>\n",
              "      <td>NaN</td>\n",
              "      <td>NaN</td>\n",
              "      <td>NaN</td>\n",
              "    </tr>\n",
              "    <tr>\n",
              "      <th>std</th>\n",
              "      <td>1.026403e+08</td>\n",
              "      <td>3.869636e+07</td>\n",
              "      <td>NaN</td>\n",
              "      <td>NaN</td>\n",
              "      <td>NaN</td>\n",
              "      <td>NaN</td>\n",
              "      <td>1.445403</td>\n",
              "      <td>5.280166</td>\n",
              "      <td>4.064081</td>\n",
              "      <td>2.985108</td>\n",
              "      <td>...</td>\n",
              "      <td>NaN</td>\n",
              "      <td>NaN</td>\n",
              "      <td>NaN</td>\n",
              "      <td>NaN</td>\n",
              "      <td>NaN</td>\n",
              "      <td>NaN</td>\n",
              "      <td>NaN</td>\n",
              "      <td>NaN</td>\n",
              "      <td>NaN</td>\n",
              "      <td>NaN</td>\n",
              "    </tr>\n",
              "    <tr>\n",
              "      <th>min</th>\n",
              "      <td>1.252200e+04</td>\n",
              "      <td>1.350000e+02</td>\n",
              "      <td>NaN</td>\n",
              "      <td>NaN</td>\n",
              "      <td>NaN</td>\n",
              "      <td>NaN</td>\n",
              "      <td>1.000000</td>\n",
              "      <td>1.000000</td>\n",
              "      <td>1.000000</td>\n",
              "      <td>1.000000</td>\n",
              "      <td>...</td>\n",
              "      <td>NaN</td>\n",
              "      <td>NaN</td>\n",
              "      <td>NaN</td>\n",
              "      <td>NaN</td>\n",
              "      <td>NaN</td>\n",
              "      <td>NaN</td>\n",
              "      <td>NaN</td>\n",
              "      <td>NaN</td>\n",
              "      <td>NaN</td>\n",
              "      <td>NaN</td>\n",
              "    </tr>\n",
              "    <tr>\n",
              "      <th>25%</th>\n",
              "      <td>8.496119e+07</td>\n",
              "      <td>2.341322e+07</td>\n",
              "      <td>NaN</td>\n",
              "      <td>NaN</td>\n",
              "      <td>NaN</td>\n",
              "      <td>NaN</td>\n",
              "      <td>1.000000</td>\n",
              "      <td>1.000000</td>\n",
              "      <td>1.000000</td>\n",
              "      <td>2.000000</td>\n",
              "      <td>...</td>\n",
              "      <td>NaN</td>\n",
              "      <td>NaN</td>\n",
              "      <td>NaN</td>\n",
              "      <td>NaN</td>\n",
              "      <td>NaN</td>\n",
              "      <td>NaN</td>\n",
              "      <td>NaN</td>\n",
              "      <td>NaN</td>\n",
              "      <td>NaN</td>\n",
              "      <td>NaN</td>\n",
              "    </tr>\n",
              "    <tr>\n",
              "      <th>50%</th>\n",
              "      <td>1.523890e+08</td>\n",
              "      <td>4.550514e+07</td>\n",
              "      <td>NaN</td>\n",
              "      <td>NaN</td>\n",
              "      <td>NaN</td>\n",
              "      <td>NaN</td>\n",
              "      <td>1.000000</td>\n",
              "      <td>1.000000</td>\n",
              "      <td>7.000000</td>\n",
              "      <td>4.000000</td>\n",
              "      <td>...</td>\n",
              "      <td>NaN</td>\n",
              "      <td>NaN</td>\n",
              "      <td>NaN</td>\n",
              "      <td>NaN</td>\n",
              "      <td>NaN</td>\n",
              "      <td>NaN</td>\n",
              "      <td>NaN</td>\n",
              "      <td>NaN</td>\n",
              "      <td>NaN</td>\n",
              "      <td>NaN</td>\n",
              "    </tr>\n",
              "    <tr>\n",
              "      <th>75%</th>\n",
              "      <td>2.302709e+08</td>\n",
              "      <td>8.754595e+07</td>\n",
              "      <td>NaN</td>\n",
              "      <td>NaN</td>\n",
              "      <td>NaN</td>\n",
              "      <td>NaN</td>\n",
              "      <td>3.000000</td>\n",
              "      <td>4.000000</td>\n",
              "      <td>7.000000</td>\n",
              "      <td>6.000000</td>\n",
              "      <td>...</td>\n",
              "      <td>NaN</td>\n",
              "      <td>NaN</td>\n",
              "      <td>NaN</td>\n",
              "      <td>NaN</td>\n",
              "      <td>NaN</td>\n",
              "      <td>NaN</td>\n",
              "      <td>NaN</td>\n",
              "      <td>NaN</td>\n",
              "      <td>NaN</td>\n",
              "      <td>NaN</td>\n",
              "    </tr>\n",
              "    <tr>\n",
              "      <th>max</th>\n",
              "      <td>4.438672e+08</td>\n",
              "      <td>1.895026e+08</td>\n",
              "      <td>NaN</td>\n",
              "      <td>NaN</td>\n",
              "      <td>NaN</td>\n",
              "      <td>NaN</td>\n",
              "      <td>8.000000</td>\n",
              "      <td>28.000000</td>\n",
              "      <td>25.000000</td>\n",
              "      <td>14.000000</td>\n",
              "      <td>...</td>\n",
              "      <td>NaN</td>\n",
              "      <td>NaN</td>\n",
              "      <td>NaN</td>\n",
              "      <td>NaN</td>\n",
              "      <td>NaN</td>\n",
              "      <td>NaN</td>\n",
              "      <td>NaN</td>\n",
              "      <td>NaN</td>\n",
              "      <td>NaN</td>\n",
              "      <td>NaN</td>\n",
              "    </tr>\n",
              "  </tbody>\n",
              "</table>\n",
              "<p>11 rows × 50 columns</p>\n",
              "</div>"
            ],
            "text/plain": [
              "        encounter_id   patient_nbr       race  gender      age  weight  \\\n",
              "count   1.017660e+05  1.017660e+05     101766  101766   101766  101766   \n",
              "unique           NaN           NaN          6       3       10      10   \n",
              "top              NaN           NaN  Caucasian  Female  [70-80)       ?   \n",
              "freq             NaN           NaN      76099   54708    26068   98569   \n",
              "mean    1.652016e+08  5.433040e+07        NaN     NaN      NaN     NaN   \n",
              "std     1.026403e+08  3.869636e+07        NaN     NaN      NaN     NaN   \n",
              "min     1.252200e+04  1.350000e+02        NaN     NaN      NaN     NaN   \n",
              "25%     8.496119e+07  2.341322e+07        NaN     NaN      NaN     NaN   \n",
              "50%     1.523890e+08  4.550514e+07        NaN     NaN      NaN     NaN   \n",
              "75%     2.302709e+08  8.754595e+07        NaN     NaN      NaN     NaN   \n",
              "max     4.438672e+08  1.895026e+08        NaN     NaN      NaN     NaN   \n",
              "\n",
              "        admission_type_id  discharge_disposition_id  admission_source_id  \\\n",
              "count       101766.000000             101766.000000        101766.000000   \n",
              "unique                NaN                       NaN                  NaN   \n",
              "top                   NaN                       NaN                  NaN   \n",
              "freq                  NaN                       NaN                  NaN   \n",
              "mean             2.024006                  3.715642             5.754437   \n",
              "std              1.445403                  5.280166             4.064081   \n",
              "min              1.000000                  1.000000             1.000000   \n",
              "25%              1.000000                  1.000000             1.000000   \n",
              "50%              1.000000                  1.000000             7.000000   \n",
              "75%              3.000000                  4.000000             7.000000   \n",
              "max              8.000000                 28.000000            25.000000   \n",
              "\n",
              "        time_in_hospital  ... citoglipton insulin  glyburide-metformin  \\\n",
              "count      101766.000000  ...      101766  101766               101766   \n",
              "unique               NaN  ...           1       4                    4   \n",
              "top                  NaN  ...          No      No                   No   \n",
              "freq                 NaN  ...      101766   47383               101060   \n",
              "mean            4.395987  ...         NaN     NaN                  NaN   \n",
              "std             2.985108  ...         NaN     NaN                  NaN   \n",
              "min             1.000000  ...         NaN     NaN                  NaN   \n",
              "25%             2.000000  ...         NaN     NaN                  NaN   \n",
              "50%             4.000000  ...         NaN     NaN                  NaN   \n",
              "75%             6.000000  ...         NaN     NaN                  NaN   \n",
              "max            14.000000  ...         NaN     NaN                  NaN   \n",
              "\n",
              "        glipizide-metformin  glimepiride-pioglitazone  \\\n",
              "count                101766                    101766   \n",
              "unique                    2                         2   \n",
              "top                      No                        No   \n",
              "freq                 101753                    101765   \n",
              "mean                    NaN                       NaN   \n",
              "std                     NaN                       NaN   \n",
              "min                     NaN                       NaN   \n",
              "25%                     NaN                       NaN   \n",
              "50%                     NaN                       NaN   \n",
              "75%                     NaN                       NaN   \n",
              "max                     NaN                       NaN   \n",
              "\n",
              "        metformin-rosiglitazone  metformin-pioglitazone  change diabetesMed  \\\n",
              "count                    101766                  101766  101766      101766   \n",
              "unique                        2                       2       2           2   \n",
              "top                          No                      No      No         Yes   \n",
              "freq                     101764                  101765   54755       78363   \n",
              "mean                        NaN                     NaN     NaN         NaN   \n",
              "std                         NaN                     NaN     NaN         NaN   \n",
              "min                         NaN                     NaN     NaN         NaN   \n",
              "25%                         NaN                     NaN     NaN         NaN   \n",
              "50%                         NaN                     NaN     NaN         NaN   \n",
              "75%                         NaN                     NaN     NaN         NaN   \n",
              "max                         NaN                     NaN     NaN         NaN   \n",
              "\n",
              "       readmitted  \n",
              "count      101766  \n",
              "unique          3  \n",
              "top            NO  \n",
              "freq        54864  \n",
              "mean          NaN  \n",
              "std           NaN  \n",
              "min           NaN  \n",
              "25%           NaN  \n",
              "50%           NaN  \n",
              "75%           NaN  \n",
              "max           NaN  \n",
              "\n",
              "[11 rows x 50 columns]"
            ]
          },
          "execution_count": 6,
          "metadata": {},
          "output_type": "execute_result"
        }
      ],
      "source": [
        "df.describe(include=\"all\")"
      ]
    },
    {
      "cell_type": "markdown",
      "metadata": {
        "id": "McnThByktGPS"
      },
      "source": [
        "## Cleanning data"
      ]
    },
    {
      "cell_type": "code",
      "execution_count": 7,
      "metadata": {
        "colab": {
          "base_uri": "https://localhost:8080/"
        },
        "id": "lcT24uTnlf3N",
        "outputId": "cb4031b9-b41c-4bff-ced4-54c35a352ff3"
      },
      "outputs": [
        {
          "data": {
            "text/plain": [
              "array(['?', '[75-100)', '[50-75)', '[0-25)', '[100-125)', '[25-50)',\n",
              "       '[125-150)', '[175-200)', '[150-175)', '>200'], dtype=object)"
            ]
          },
          "execution_count": 7,
          "metadata": {},
          "output_type": "execute_result"
        }
      ],
      "source": [
        "df['weight'].unique()"
      ]
    },
    {
      "cell_type": "code",
      "execution_count": 8,
      "metadata": {
        "colab": {
          "base_uri": "https://localhost:8080/"
        },
        "id": "9qRcmDbjlf3O",
        "outputId": "1162d87b-0c21-41dd-9991-21f8c9fee52d"
      },
      "outputs": [
        {
          "name": "stdout",
          "output_type": "stream",
          "text": [
            "?            98569\n",
            "[75-100)      1336\n",
            "[50-75)        897\n",
            "[100-125)      625\n",
            "[125-150)      145\n",
            "[25-50)         97\n",
            "[0-25)          48\n",
            "[150-175)       35\n",
            "[175-200)       11\n",
            ">200             3\n",
            "Name: weight, dtype: int64\n"
          ]
        }
      ],
      "source": [
        "# Function to count the repetitions of each value in a column\n",
        "def count_values(df, column):\n",
        "  \"\"\"Counts the repetitions of each value in a column of a DataFrame.\n",
        "\n",
        "  Args:\n",
        "    df: A Pandas DataFrame.\n",
        "    column: The name of the column to analyze.\n",
        "\n",
        "  Returns:\n",
        "    A Series with the values as index and their repetitions as values.\n",
        "  \"\"\"\n",
        "  repetitions = df[column].value_counts()\n",
        "  return repetitions\n",
        "\n",
        "\n",
        "repetitions = count_values(df, \"weight\")\n",
        "\n",
        "print(repetitions)\n"
      ]
    },
    {
      "cell_type": "code",
      "execution_count": 9,
      "metadata": {
        "colab": {
          "base_uri": "https://localhost:8080/",
          "height": 551
        },
        "id": "E8-BWP13sj6P",
        "outputId": "87fae376-f04a-4ff7-bfa2-c348645d51b2"
      },
      "outputs": [
        {
          "data": {
            "image/png": "[encoded data removed]",
            "text/plain": [
              "<Figure size 500x500 with 1 Axes>"
            ]
          },
          "metadata": {},
          "output_type": "display_data"
        }
      ],
      "source": [
        "# Function to plot the distribution of a column\n",
        "def plot_distribution(column, df):\n",
        "  \"\"\"Plots the distribution of a specific column from a DataFrame.\n",
        "\n",
        "  Args:\n",
        "    column: The name of the column to plot.\n",
        "    df: The pandas DataFrame containing the data.\n",
        "\n",
        "  Returns:\n",
        "    None. The function directly displays the plot.\n",
        "  \"\"\"\n",
        "\n",
        "  data = df[df[column] != \"?\"]  # Filter out rows with \"?\" in the column\n",
        "  sns.displot(data[column], kind=\"hist\")  # Create the distribution plot\n",
        "  plt.xticks(rotation=45)  # Rotate x-labels by 45 degrees\n",
        "  plt.show()  # Display the plot\n",
        "\n",
        "plot_distribution('weight',df)"
      ]
    },
    {
      "cell_type": "markdown",
      "metadata": {
        "id": "eHRjeBGxttxu"
      },
      "source": [
        "\n",
        "For the weight column, the relationship between the missing data and the existing data is very high, which is why the column will be discarded."
      ]
    },
    {
      "cell_type": "code",
      "execution_count": 10,
      "metadata": {
        "colab": {
          "base_uri": "https://localhost:8080/"
        },
        "id": "uHY8VWUsu4Ib",
        "outputId": "6be51462-eec3-4813-db6b-df73a6c83f36"
      },
      "outputs": [
        {
          "name": "stdout",
          "output_type": "stream",
          "text": [
            "['No']\n",
            "['No']\n"
          ]
        }
      ],
      "source": [
        "print(df['examide'].unique())\n",
        "print(df['citoglipton'].unique())"
      ]
    },
    {
      "cell_type": "markdown",
      "metadata": {
        "id": "VJV30tUrvbTd"
      },
      "source": [
        "\n",
        "The columns 'examide', 'citoglipton' have a single value, this does not contribute to the prediction, therefore they will be discarded."
      ]
    },
    {
      "cell_type": "code",
      "execution_count": 11,
      "metadata": {
        "id": "MhAQkxaWlf3Q"
      },
      "outputs": [],
      "source": [
        "# Drop features\n",
        "def drop_features(df):\n",
        "\n",
        "    df = df.drop(['weight', 'payer_code', 'medical_specialty', 'examide', 'citoglipton'], axis=1)\n",
        "\n",
        "    # drop bad data with 3 '?' in diag\n",
        "    drop_ID = set(df[(df['diag_1'] == '?') & (df['diag_2'] == '?') & (df['diag_3'] == '?')].index)\n",
        "\n",
        "    # drop died patient data which 'discharge_disposition_id' == 11 | 19 | 20 | 21 indicates 'Expired'\n",
        "    drop_ID = drop_ID.union(set(df[(df['discharge_disposition_id'] == 11) | (df['discharge_disposition_id'] == 19) | \\\n",
        "                                (df['discharge_disposition_id'] == 20) | (df['discharge_disposition_id'] == 21)].index))\n",
        "\n",
        "    # drop 3 data with 'Unknown/Invalid' gender\n",
        "    drop_ID = drop_ID.union(df['gender'][df['gender'] == 'Unknown/Invalid'].index)\n",
        "\n",
        "    # create a set of indexes to drop the IDs that are not required\n",
        "    new_ID = list(set(df.index) - set(drop_ID))\n",
        "\n",
        "    df = df.iloc[new_ID]\n",
        "\n",
        "    return df\n",
        "\n",
        "df = drop_features(df)"
      ]
    },
    {
      "cell_type": "markdown",
      "metadata": {
        "id": "_mO4YtzJwAHF"
      },
      "source": [
        "## Encoding data"
      ]
    },
    {
      "cell_type": "code",
      "execution_count": 12,
      "metadata": {
        "id": "CwkEPTS3lf3R"
      },
      "outputs": [
        {
          "data": {
            "text/plain": [
              "\"# Encode data\\n\\ndef encode(df):\\n    df['readmitted'] = df['readmitted'].replace({'>30': 1, '<30': 1, 'NO': 0}) # Encode readmitted column\\n    df['race'] = df['race'].replace({'Asian':0, 'AfricanAmerican':1, 'Caucasian': 2, 'Hispanic': 3, 'Other': 4, '?': 4})# Encode race column\\n    df['A1Cresult'] = df['A1Cresult'].replace({'None': -99, '>8': 1, '>7': 1, 'Norm': 0})# Encode A1Cresult column\\n    df['max_glu_serum'] = df['max_glu_serum'].replace({'>200': 1, '>300': 1, 'Norm': 0, 'None': -99})# Encode max_glu_serum column\\n    df['change'] = df['change'].replace({'No': 0, 'Ch': 1})# Encode change column\\n    df['gender'] = df['gender'].replace({'Male': 1, 'Female': 0})# Encode gender column\\n    df['diabetesMed'] = df['diabetesMed'].replace({'Yes': 1, 'No':0})# Encode diabetesMed column\\n    # Encode age column\\n    age_dict = {'[0-10)': 5, '[10-20)': 15, '[20-30)': 25, '[30-40)': 35, '[40-50)': 45, '[50-60)': 55, '[60-70)': 65,\\n            '[70-80)': 75, '[80-90)': 85, '[90-100)': 95}\\n    df['age'] = df['age'].replace(age_dict)\\n    df['age'] = df['age'].astype('int64')\\n    return df\\n\\ndf = encode(df)\""
            ]
          },
          "execution_count": 12,
          "metadata": {},
          "output_type": "execute_result"
        }
      ],
      "source": [
        "\"\"\"# Encode data\n",
        "\n",
        "def encode(df):\n",
        "    df['readmitted'] = df['readmitted'].replace({'>30': 1, '<30': 1, 'NO': 0}) # Encode readmitted column\n",
        "    df['race'] = df['race'].replace({'Asian':0, 'AfricanAmerican':1, 'Caucasian': 2, 'Hispanic': 3, 'Other': 4, '?': 4})# Encode race column\n",
        "    df['A1Cresult'] = df['A1Cresult'].replace({'None': -99, '>8': 1, '>7': 1, 'Norm': 0})# Encode A1Cresult column\n",
        "    df['max_glu_serum'] = df['max_glu_serum'].replace({'>200': 1, '>300': 1, 'Norm': 0, 'None': -99})# Encode max_glu_serum column\n",
        "    df['change'] = df['change'].replace({'No': 0, 'Ch': 1})# Encode change column\n",
        "    df['gender'] = df['gender'].replace({'Male': 1, 'Female': 0})# Encode gender column\n",
        "    df['diabetesMed'] = df['diabetesMed'].replace({'Yes': 1, 'No':0})# Encode diabetesMed column\n",
        "    # Encode age column\n",
        "    age_dict = {'[0-10)': 5, '[10-20)': 15, '[20-30)': 25, '[30-40)': 35, '[40-50)': 45, '[50-60)': 55, '[60-70)': 65,\n",
        "            '[70-80)': 75, '[80-90)': 85, '[90-100)': 95}\n",
        "    df['age'] = df['age'].replace(age_dict)\n",
        "    df['age'] = df['age'].astype('int64')\n",
        "    return df\n",
        "\n",
        "df = encode(df)\"\"\""
      ]
    },
    {
      "cell_type": "code",
      "execution_count": 13,
      "metadata": {
        "colab": {
          "base_uri": "https://localhost:8080/"
        },
        "id": "7eoJl0oGlf3T",
        "outputId": "b0a3af26-8516-4406-ce33-70809caa52f6"
      },
      "outputs": [
        {
          "data": {
            "text/plain": [
              "0    53208\n",
              "1    46902\n",
              "Name: readmitted, dtype: int64"
            ]
          },
          "execution_count": 13,
          "metadata": {},
          "output_type": "execute_result"
        }
      ],
      "source": [
        "# encode readmitted data\n",
        "\n",
        "df['readmitted'] = df['readmitted'].replace({'>30': 1, '<30': 1, 'NO': 0})\n",
        "\n",
        "count_values(df,'readmitted')"
      ]
    },
    {
      "cell_type": "code",
      "execution_count": 14,
      "metadata": {
        "colab": {
          "base_uri": "https://localhost:8080/"
        },
        "id": "oPrxFqrwlf3W",
        "outputId": "14ea99f6-1add-48e5-ab6a-69f694072e39"
      },
      "outputs": [
        {
          "data": {
            "text/plain": [
              "2    74845\n",
              "1    18888\n",
              "4     3722\n",
              "3     2024\n",
              "0      631\n",
              "Name: race, dtype: int64"
            ]
          },
          "execution_count": 14,
          "metadata": {},
          "output_type": "execute_result"
        }
      ],
      "source": [
        "# encode race data\n",
        "df['race'] = df['race'].replace({'Asian':0, 'AfricanAmerican':1, 'Caucasian': 2, 'Hispanic': 3, 'Other': 4, '?': 4})\n",
        "\n",
        "count_values(df,'race')"
      ]
    },
    {
      "cell_type": "code",
      "execution_count": 15,
      "metadata": {
        "colab": {
          "base_uri": "https://localhost:8080/"
        },
        "id": "yltrG_m9lf3X",
        "outputId": "dea45674-b132-4916-ab1d-96427f4da003"
      },
      "outputs": [
        {
          "data": {
            "text/plain": [
              "-99    83234\n",
              " 1     11935\n",
              " 0      4941\n",
              "Name: A1Cresult, dtype: int64"
            ]
          },
          "execution_count": 15,
          "metadata": {},
          "output_type": "execute_result"
        }
      ],
      "source": [
        "#  encode A1Cresult\n",
        "df['A1Cresult'] = df['A1Cresult'].replace({'None': -99, '>8': 1, '>7': 1, 'Norm': 0})\n",
        "\n",
        "count_values(df,'A1Cresult')\n"
      ]
    },
    {
      "cell_type": "code",
      "execution_count": 16,
      "metadata": {
        "colab": {
          "base_uri": "https://localhost:8080/"
        },
        "id": "ws3paMk0lf3X",
        "outputId": "bbbe019a-1c19-4745-81da-94d5f23855b3"
      },
      "outputs": [
        {
          "data": {
            "text/plain": [
              "-99    94886\n",
              " 1      2651\n",
              " 0      2573\n",
              "Name: max_glu_serum, dtype: int64"
            ]
          },
          "execution_count": 16,
          "metadata": {},
          "output_type": "execute_result"
        }
      ],
      "source": [
        "# encode max_glu_serum\n",
        "df['max_glu_serum'] = df['max_glu_serum'].replace({'>200': 1, '>300': 1, 'Norm': 0, 'None': -99})\n",
        "\n",
        "count_values(df, 'max_glu_serum')"
      ]
    },
    {
      "cell_type": "code",
      "execution_count": 17,
      "metadata": {
        "colab": {
          "base_uri": "https://localhost:8080/"
        },
        "id": "JuFE3Mlalf3Y",
        "outputId": "d8f45e43-d0a3-4912-838a-81f1eedbaf53"
      },
      "outputs": [
        {
          "data": {
            "text/plain": [
              "0    53669\n",
              "1    46441\n",
              "Name: change, dtype: int64"
            ]
          },
          "execution_count": 17,
          "metadata": {},
          "output_type": "execute_result"
        }
      ],
      "source": [
        "# encode change\n",
        "df['change'] = df['change'].replace({'No': 0, 'Ch': 1})\n",
        "\n",
        "count_values(df,'change')\n"
      ]
    },
    {
      "cell_type": "code",
      "execution_count": 18,
      "metadata": {
        "colab": {
          "base_uri": "https://localhost:8080/"
        },
        "id": "HAMA-uAllf3Y",
        "outputId": "344cf2bb-ca0b-484f-daa0-f746fca993f1"
      },
      "outputs": [
        {
          "data": {
            "text/plain": [
              "0    53861\n",
              "1    46249\n",
              "Name: gender, dtype: int64"
            ]
          },
          "execution_count": 18,
          "metadata": {},
          "output_type": "execute_result"
        }
      ],
      "source": [
        "# enconde gender\n",
        "df['gender'] = df['gender'].replace({'Male': 1, 'Female': 0})\n",
        "\n",
        "count_values(df,'gender')"
      ]
    },
    {
      "cell_type": "code",
      "execution_count": 19,
      "metadata": {
        "colab": {
          "base_uri": "https://localhost:8080/"
        },
        "id": "FvJSZx2Elf3Z",
        "outputId": "fcef25db-4f2d-496d-f7a3-73313a0bf7e8"
      },
      "outputs": [
        {
          "data": {
            "text/plain": [
              "1    77270\n",
              "0    22840\n",
              "Name: diabetesMed, dtype: int64"
            ]
          },
          "execution_count": 19,
          "metadata": {},
          "output_type": "execute_result"
        }
      ],
      "source": [
        "# encode diabetesMed\n",
        "df['diabetesMed'] = df['diabetesMed'].replace({'Yes': 1, 'No':0})\n",
        "\n",
        "count_values(df,'diabetesMed')"
      ]
    },
    {
      "cell_type": "code",
      "execution_count": 20,
      "metadata": {
        "colab": {
          "base_uri": "https://localhost:8080/"
        },
        "id": "NJGQ3oPIlf3Z",
        "outputId": "408ffc81-a117-486a-ab0d-15faac2a8e9a"
      },
      "outputs": [
        {
          "data": {
            "text/plain": [
              "75    25560\n",
              "65    22183\n",
              "55    17102\n",
              "85    16706\n",
              "45     9626\n",
              "35     3765\n",
              "95     2668\n",
              "25     1650\n",
              "15      690\n",
              "5       160\n",
              "Name: age, dtype: int64"
            ]
          },
          "execution_count": 20,
          "metadata": {},
          "output_type": "execute_result"
        }
      ],
      "source": [
        "# encode age\n",
        "age_dict = {'[0-10)': 5, '[10-20)': 15, '[20-30)': 25, '[30-40)': 35, '[40-50)': 45, '[50-60)': 55, '[60-70)': 65,\n",
        "            '[70-80)': 75, '[80-90)': 85, '[90-100)': 95}\n",
        "\n",
        "df['age'] = df['age'].replace(age_dict)\n",
        "df['age'] = df['age'].astype('int64')\n",
        "\n",
        "count_values(df,'age')"
      ]
    },
    {
      "cell_type": "code",
      "execution_count": 21,
      "metadata": {
        "id": "bD2fBhkplf3a"
      },
      "outputs": [],
      "source": [
        "#  Classify Diagnoses by ICD-9\n",
        "\n",
        "def classify_diagnoses_by_icd9(df):\n",
        "    \"\"\"Classifies diagnoses by ICD-9 codes and creates additional features.\n",
        "\n",
        "    Args:\n",
        "        df (pd.DataFrame): The DataFrame containing the diagnosis columns.\n",
        "\n",
        "    Returns:\n",
        "        pd.DataFrame: The DataFrame with classified diagnoses and added features.\n",
        "    \"\"\"\n",
        "\n",
        "    def classify_diag_column(column_name):\n",
        "        df.loc[df[column_name].str.contains('V|E', na=False), column_name] = 0\n",
        "        df[column_name] = df[column_name].replace('?', -1)\n",
        "        df[column_name] = pd.to_numeric(df[column_name], errors='coerce')\n",
        "\n",
        "        df[column_name].replace(\n",
        "            to_replace=range(1, 1000),\n",
        "            value=pd.cut(range(1, 1000), bins=17, labels=range(1, 18)),\n",
        "            inplace=True\n",
        "        )\n",
        "\n",
        "    for column_name in ['diag_1', 'diag_2', 'diag_3']:\n",
        "        classify_diag_column(column_name)\n",
        "\n",
        "    return df\n",
        "\n",
        "# Apply the function to classify diagnoses by ICD-9\n",
        "df = classify_diagnoses_by_icd9(df)"
      ]
    },
    {
      "cell_type": "code",
      "execution_count": 22,
      "metadata": {
        "colab": {
          "base_uri": "https://localhost:8080/",
          "height": 273
        },
        "id": "rOhDuSg3lf3a",
        "outputId": "542256b0-c984-4aa4-c6d9-be1b90fcea05"
      },
      "outputs": [
        {
          "data": {
            "text/html": [
              "<div>\n",
              "<style scoped>\n",
              "    .dataframe tbody tr th:only-of-type {\n",
              "        vertical-align: middle;\n",
              "    }\n",
              "\n",
              "    .dataframe tbody tr th {\n",
              "        vertical-align: top;\n",
              "    }\n",
              "\n",
              "    .dataframe thead th {\n",
              "        text-align: right;\n",
              "    }\n",
              "</style>\n",
              "<table border=\"1\" class=\"dataframe\">\n",
              "  <thead>\n",
              "    <tr style=\"text-align: right;\">\n",
              "      <th></th>\n",
              "      <th>encounter_id</th>\n",
              "      <th>patient_nbr</th>\n",
              "      <th>race</th>\n",
              "      <th>gender</th>\n",
              "      <th>age</th>\n",
              "      <th>admission_type_id</th>\n",
              "      <th>discharge_disposition_id</th>\n",
              "      <th>admission_source_id</th>\n",
              "      <th>time_in_hospital</th>\n",
              "      <th>num_lab_procedures</th>\n",
              "      <th>...</th>\n",
              "      <th>tolazamide</th>\n",
              "      <th>insulin</th>\n",
              "      <th>glyburide-metformin</th>\n",
              "      <th>glipizide-metformin</th>\n",
              "      <th>glimepiride-pioglitazone</th>\n",
              "      <th>metformin-rosiglitazone</th>\n",
              "      <th>metformin-pioglitazone</th>\n",
              "      <th>change</th>\n",
              "      <th>diabetesMed</th>\n",
              "      <th>readmitted</th>\n",
              "    </tr>\n",
              "  </thead>\n",
              "  <tbody>\n",
              "    <tr>\n",
              "      <th>0</th>\n",
              "      <td>2278392</td>\n",
              "      <td>8222157</td>\n",
              "      <td>2</td>\n",
              "      <td>0</td>\n",
              "      <td>5</td>\n",
              "      <td>6</td>\n",
              "      <td>25</td>\n",
              "      <td>1</td>\n",
              "      <td>1</td>\n",
              "      <td>41</td>\n",
              "      <td>...</td>\n",
              "      <td>No</td>\n",
              "      <td>No</td>\n",
              "      <td>No</td>\n",
              "      <td>No</td>\n",
              "      <td>No</td>\n",
              "      <td>No</td>\n",
              "      <td>No</td>\n",
              "      <td>0</td>\n",
              "      <td>0</td>\n",
              "      <td>0</td>\n",
              "    </tr>\n",
              "    <tr>\n",
              "      <th>1</th>\n",
              "      <td>149190</td>\n",
              "      <td>55629189</td>\n",
              "      <td>2</td>\n",
              "      <td>0</td>\n",
              "      <td>15</td>\n",
              "      <td>1</td>\n",
              "      <td>1</td>\n",
              "      <td>7</td>\n",
              "      <td>3</td>\n",
              "      <td>59</td>\n",
              "      <td>...</td>\n",
              "      <td>No</td>\n",
              "      <td>Up</td>\n",
              "      <td>No</td>\n",
              "      <td>No</td>\n",
              "      <td>No</td>\n",
              "      <td>No</td>\n",
              "      <td>No</td>\n",
              "      <td>1</td>\n",
              "      <td>1</td>\n",
              "      <td>1</td>\n",
              "    </tr>\n",
              "    <tr>\n",
              "      <th>2</th>\n",
              "      <td>64410</td>\n",
              "      <td>86047875</td>\n",
              "      <td>1</td>\n",
              "      <td>0</td>\n",
              "      <td>25</td>\n",
              "      <td>1</td>\n",
              "      <td>1</td>\n",
              "      <td>7</td>\n",
              "      <td>2</td>\n",
              "      <td>11</td>\n",
              "      <td>...</td>\n",
              "      <td>No</td>\n",
              "      <td>No</td>\n",
              "      <td>No</td>\n",
              "      <td>No</td>\n",
              "      <td>No</td>\n",
              "      <td>No</td>\n",
              "      <td>No</td>\n",
              "      <td>0</td>\n",
              "      <td>1</td>\n",
              "      <td>0</td>\n",
              "    </tr>\n",
              "    <tr>\n",
              "      <th>3</th>\n",
              "      <td>500364</td>\n",
              "      <td>82442376</td>\n",
              "      <td>2</td>\n",
              "      <td>1</td>\n",
              "      <td>35</td>\n",
              "      <td>1</td>\n",
              "      <td>1</td>\n",
              "      <td>7</td>\n",
              "      <td>2</td>\n",
              "      <td>44</td>\n",
              "      <td>...</td>\n",
              "      <td>No</td>\n",
              "      <td>Up</td>\n",
              "      <td>No</td>\n",
              "      <td>No</td>\n",
              "      <td>No</td>\n",
              "      <td>No</td>\n",
              "      <td>No</td>\n",
              "      <td>1</td>\n",
              "      <td>1</td>\n",
              "      <td>0</td>\n",
              "    </tr>\n",
              "    <tr>\n",
              "      <th>4</th>\n",
              "      <td>16680</td>\n",
              "      <td>42519267</td>\n",
              "      <td>2</td>\n",
              "      <td>1</td>\n",
              "      <td>45</td>\n",
              "      <td>1</td>\n",
              "      <td>1</td>\n",
              "      <td>7</td>\n",
              "      <td>1</td>\n",
              "      <td>51</td>\n",
              "      <td>...</td>\n",
              "      <td>No</td>\n",
              "      <td>Steady</td>\n",
              "      <td>No</td>\n",
              "      <td>No</td>\n",
              "      <td>No</td>\n",
              "      <td>No</td>\n",
              "      <td>No</td>\n",
              "      <td>1</td>\n",
              "      <td>1</td>\n",
              "      <td>0</td>\n",
              "    </tr>\n",
              "  </tbody>\n",
              "</table>\n",
              "<p>5 rows × 45 columns</p>\n",
              "</div>"
            ],
            "text/plain": [
              "   encounter_id  patient_nbr  race  gender  age  admission_type_id  \\\n",
              "0       2278392      8222157     2       0    5                  6   \n",
              "1        149190     55629189     2       0   15                  1   \n",
              "2         64410     86047875     1       0   25                  1   \n",
              "3        500364     82442376     2       1   35                  1   \n",
              "4         16680     42519267     2       1   45                  1   \n",
              "\n",
              "   discharge_disposition_id  admission_source_id  time_in_hospital  \\\n",
              "0                        25                    1                 1   \n",
              "1                         1                    7                 3   \n",
              "2                         1                    7                 2   \n",
              "3                         1                    7                 2   \n",
              "4                         1                    7                 1   \n",
              "\n",
              "   num_lab_procedures  ...  tolazamide  insulin  glyburide-metformin  \\\n",
              "0                  41  ...          No       No                   No   \n",
              "1                  59  ...          No       Up                   No   \n",
              "2                  11  ...          No       No                   No   \n",
              "3                  44  ...          No       Up                   No   \n",
              "4                  51  ...          No   Steady                   No   \n",
              "\n",
              "   glipizide-metformin  glimepiride-pioglitazone  metformin-rosiglitazone  \\\n",
              "0                   No                        No                       No   \n",
              "1                   No                        No                       No   \n",
              "2                   No                        No                       No   \n",
              "3                   No                        No                       No   \n",
              "4                   No                        No                       No   \n",
              "\n",
              "   metformin-pioglitazone  change  diabetesMed  readmitted  \n",
              "0                      No       0            0           0  \n",
              "1                      No       1            1           1  \n",
              "2                      No       0            1           0  \n",
              "3                      No       1            1           0  \n",
              "4                      No       1            1           0  \n",
              "\n",
              "[5 rows x 45 columns]"
            ]
          },
          "execution_count": 22,
          "metadata": {},
          "output_type": "execute_result"
        }
      ],
      "source": [
        "df.head()"
      ]
    },
    {
      "cell_type": "code",
      "execution_count": 23,
      "metadata": {
        "id": "X3lN2xJ_lf3a"
      },
      "outputs": [],
      "source": [
        "# Function to encode medicines\n",
        "def process_medication_data(df, medications):\n",
        "    \"\"\"\n",
        "    Processes medication data in a DataFrame, creating columns for \"Up\", \"Down\", and total count.\n",
        "\n",
        "    Args:\n",
        "        df (pd.DataFrame): The DataFrame containing medication data.\n",
        "        medications (list): A list of medication names.\n",
        "\n",
        "    Returns:\n",
        "        pd.DataFrame: The processed DataFrame with new medication columns.\n",
        "    \"\"\"\n",
        "\n",
        "    for med in medications:\n",
        "        df[med] = df[med].replace({\n",
        "            \"Up\": 1, \"Down\": 1, \"Steady\": 0, \"No\": 0,\n",
        "        }).fillna(0)\n",
        "\n",
        "    df['num_med_taken'] = df[[med for med in medications]].sum(axis=1)\n",
        "    return df\n",
        "\n",
        "medicine = ['metformin', 'repaglinide', 'nateglinide', 'chlorpropamide', 'glimepiride', 'glipizide', 'glyburide',\n",
        "            'pioglitazone', 'rosiglitazone', 'acarbose', 'miglitol', 'insulin', 'glyburide-metformin', 'tolazamide',\n",
        "            'metformin-pioglitazone', 'metformin-rosiglitazone', 'glimepiride-pioglitazone', 'glipizide-metformin',\n",
        "            'troglitazone', 'tolbutamide', 'acetohexamide']\n",
        "\n",
        "# apply function\n",
        "df_medicine = process_medication_data(df, medicine)\n"
      ]
    },
    {
      "cell_type": "code",
      "execution_count": 24,
      "metadata": {
        "colab": {
          "base_uri": "https://localhost:8080/",
          "height": 273
        },
        "id": "JqZab6Pplf3b",
        "outputId": "742bbefc-5712-4808-c6bc-8970b3526ffb"
      },
      "outputs": [
        {
          "data": {
            "text/html": [
              "<div>\n",
              "<style scoped>\n",
              "    .dataframe tbody tr th:only-of-type {\n",
              "        vertical-align: middle;\n",
              "    }\n",
              "\n",
              "    .dataframe tbody tr th {\n",
              "        vertical-align: top;\n",
              "    }\n",
              "\n",
              "    .dataframe thead th {\n",
              "        text-align: right;\n",
              "    }\n",
              "</style>\n",
              "<table border=\"1\" class=\"dataframe\">\n",
              "  <thead>\n",
              "    <tr style=\"text-align: right;\">\n",
              "      <th></th>\n",
              "      <th>encounter_id</th>\n",
              "      <th>patient_nbr</th>\n",
              "      <th>race</th>\n",
              "      <th>gender</th>\n",
              "      <th>age</th>\n",
              "      <th>admission_type_id</th>\n",
              "      <th>discharge_disposition_id</th>\n",
              "      <th>admission_source_id</th>\n",
              "      <th>time_in_hospital</th>\n",
              "      <th>num_lab_procedures</th>\n",
              "      <th>...</th>\n",
              "      <th>insulin</th>\n",
              "      <th>glyburide-metformin</th>\n",
              "      <th>glipizide-metformin</th>\n",
              "      <th>glimepiride-pioglitazone</th>\n",
              "      <th>metformin-rosiglitazone</th>\n",
              "      <th>metformin-pioglitazone</th>\n",
              "      <th>change</th>\n",
              "      <th>diabetesMed</th>\n",
              "      <th>readmitted</th>\n",
              "      <th>num_med_taken</th>\n",
              "    </tr>\n",
              "  </thead>\n",
              "  <tbody>\n",
              "    <tr>\n",
              "      <th>0</th>\n",
              "      <td>2278392</td>\n",
              "      <td>8222157</td>\n",
              "      <td>2</td>\n",
              "      <td>0</td>\n",
              "      <td>5</td>\n",
              "      <td>6</td>\n",
              "      <td>25</td>\n",
              "      <td>1</td>\n",
              "      <td>1</td>\n",
              "      <td>41</td>\n",
              "      <td>...</td>\n",
              "      <td>0</td>\n",
              "      <td>0</td>\n",
              "      <td>0</td>\n",
              "      <td>0</td>\n",
              "      <td>0</td>\n",
              "      <td>0</td>\n",
              "      <td>0</td>\n",
              "      <td>0</td>\n",
              "      <td>0</td>\n",
              "      <td>0</td>\n",
              "    </tr>\n",
              "    <tr>\n",
              "      <th>1</th>\n",
              "      <td>149190</td>\n",
              "      <td>55629189</td>\n",
              "      <td>2</td>\n",
              "      <td>0</td>\n",
              "      <td>15</td>\n",
              "      <td>1</td>\n",
              "      <td>1</td>\n",
              "      <td>7</td>\n",
              "      <td>3</td>\n",
              "      <td>59</td>\n",
              "      <td>...</td>\n",
              "      <td>1</td>\n",
              "      <td>0</td>\n",
              "      <td>0</td>\n",
              "      <td>0</td>\n",
              "      <td>0</td>\n",
              "      <td>0</td>\n",
              "      <td>1</td>\n",
              "      <td>1</td>\n",
              "      <td>1</td>\n",
              "      <td>1</td>\n",
              "    </tr>\n",
              "    <tr>\n",
              "      <th>2</th>\n",
              "      <td>64410</td>\n",
              "      <td>86047875</td>\n",
              "      <td>1</td>\n",
              "      <td>0</td>\n",
              "      <td>25</td>\n",
              "      <td>1</td>\n",
              "      <td>1</td>\n",
              "      <td>7</td>\n",
              "      <td>2</td>\n",
              "      <td>11</td>\n",
              "      <td>...</td>\n",
              "      <td>0</td>\n",
              "      <td>0</td>\n",
              "      <td>0</td>\n",
              "      <td>0</td>\n",
              "      <td>0</td>\n",
              "      <td>0</td>\n",
              "      <td>0</td>\n",
              "      <td>1</td>\n",
              "      <td>0</td>\n",
              "      <td>0</td>\n",
              "    </tr>\n",
              "    <tr>\n",
              "      <th>3</th>\n",
              "      <td>500364</td>\n",
              "      <td>82442376</td>\n",
              "      <td>2</td>\n",
              "      <td>1</td>\n",
              "      <td>35</td>\n",
              "      <td>1</td>\n",
              "      <td>1</td>\n",
              "      <td>7</td>\n",
              "      <td>2</td>\n",
              "      <td>44</td>\n",
              "      <td>...</td>\n",
              "      <td>1</td>\n",
              "      <td>0</td>\n",
              "      <td>0</td>\n",
              "      <td>0</td>\n",
              "      <td>0</td>\n",
              "      <td>0</td>\n",
              "      <td>1</td>\n",
              "      <td>1</td>\n",
              "      <td>0</td>\n",
              "      <td>1</td>\n",
              "    </tr>\n",
              "    <tr>\n",
              "      <th>4</th>\n",
              "      <td>16680</td>\n",
              "      <td>42519267</td>\n",
              "      <td>2</td>\n",
              "      <td>1</td>\n",
              "      <td>45</td>\n",
              "      <td>1</td>\n",
              "      <td>1</td>\n",
              "      <td>7</td>\n",
              "      <td>1</td>\n",
              "      <td>51</td>\n",
              "      <td>...</td>\n",
              "      <td>0</td>\n",
              "      <td>0</td>\n",
              "      <td>0</td>\n",
              "      <td>0</td>\n",
              "      <td>0</td>\n",
              "      <td>0</td>\n",
              "      <td>1</td>\n",
              "      <td>1</td>\n",
              "      <td>0</td>\n",
              "      <td>0</td>\n",
              "    </tr>\n",
              "  </tbody>\n",
              "</table>\n",
              "<p>5 rows × 46 columns</p>\n",
              "</div>"
            ],
            "text/plain": [
              "   encounter_id  patient_nbr  race  gender  age  admission_type_id  \\\n",
              "0       2278392      8222157     2       0    5                  6   \n",
              "1        149190     55629189     2       0   15                  1   \n",
              "2         64410     86047875     1       0   25                  1   \n",
              "3        500364     82442376     2       1   35                  1   \n",
              "4         16680     42519267     2       1   45                  1   \n",
              "\n",
              "   discharge_disposition_id  admission_source_id  time_in_hospital  \\\n",
              "0                        25                    1                 1   \n",
              "1                         1                    7                 3   \n",
              "2                         1                    7                 2   \n",
              "3                         1                    7                 2   \n",
              "4                         1                    7                 1   \n",
              "\n",
              "   num_lab_procedures  ...  insulin  glyburide-metformin  glipizide-metformin  \\\n",
              "0                  41  ...        0                    0                    0   \n",
              "1                  59  ...        1                    0                    0   \n",
              "2                  11  ...        0                    0                    0   \n",
              "3                  44  ...        1                    0                    0   \n",
              "4                  51  ...        0                    0                    0   \n",
              "\n",
              "   glimepiride-pioglitazone  metformin-rosiglitazone  metformin-pioglitazone  \\\n",
              "0                         0                        0                       0   \n",
              "1                         0                        0                       0   \n",
              "2                         0                        0                       0   \n",
              "3                         0                        0                       0   \n",
              "4                         0                        0                       0   \n",
              "\n",
              "   change  diabetesMed  readmitted  num_med_taken  \n",
              "0       0            0           0              0  \n",
              "1       1            1           1              1  \n",
              "2       0            1           0              0  \n",
              "3       1            1           0              1  \n",
              "4       1            1           0              0  \n",
              "\n",
              "[5 rows x 46 columns]"
            ]
          },
          "execution_count": 24,
          "metadata": {},
          "output_type": "execute_result"
        }
      ],
      "source": [
        "df.head()"
      ]
    },
    {
      "cell_type": "code",
      "execution_count": 25,
      "metadata": {
        "id": "m2MTxldglf3b"
      },
      "outputs": [],
      "source": [
        "# Standarize numeric features\n",
        "def standardize(df, numeric_cols):\n",
        "    \"\"\"Standardizes numeric columns in a DataFrame, preserving non-numeric values.\n",
        "\n",
        "    Args:\n",
        "        df (pd.DataFrame): The DataFrame containing the numeric columns.\n",
        "        numeric_cols (list): A list of numeric column names.\n",
        "\n",
        "    Returns:\n",
        "        pd.DataFrame: The DataFrame with standardized numeric columns.\n",
        "    \"\"\"\n",
        "\n",
        "    for col in numeric_cols:\n",
        "        try:\n",
        "            # Attempt to convert to numeric and standardize\n",
        "            df[col] = pd.to_numeric(df[col])\n",
        "            df[col] = (df[col] - df[col].mean()) / df[col].std(ddof=1)\n",
        "        except:\n",
        "            # If conversion fails, keep original values\n",
        "            pass\n",
        "\n",
        "    # Remove outliers based on z-scores (only for numeric values)\n",
        "    df = df[np.abs(zscore(df[numeric_cols])) < 3]\n",
        "\n",
        "    return df\n",
        "\n",
        "# Apply the function\n",
        "numeric_columns = ['race', 'age', 'time_in_hospital', 'num_medications', 'number_diagnoses',\n",
        "                 'num_med_taken', 'number_inpatient', 'number_outpatient', 'number_emergency',\n",
        "                 'num_procedures', 'num_lab_procedures']\n",
        "\n",
        "df_numeric = standardize(df, numeric_columns)\n"
      ]
    },
    {
      "cell_type": "code",
      "execution_count": 26,
      "metadata": {
        "colab": {
          "base_uri": "https://localhost:8080/",
          "height": 273
        },
        "id": "tphNkls-lf3c",
        "outputId": "958fcbd2-4308-492c-cc94-d921c037028e"
      },
      "outputs": [
        {
          "data": {
            "text/html": [
              "<div>\n",
              "<style scoped>\n",
              "    .dataframe tbody tr th:only-of-type {\n",
              "        vertical-align: middle;\n",
              "    }\n",
              "\n",
              "    .dataframe tbody tr th {\n",
              "        vertical-align: top;\n",
              "    }\n",
              "\n",
              "    .dataframe thead th {\n",
              "        text-align: right;\n",
              "    }\n",
              "</style>\n",
              "<table border=\"1\" class=\"dataframe\">\n",
              "  <thead>\n",
              "    <tr style=\"text-align: right;\">\n",
              "      <th></th>\n",
              "      <th>encounter_id</th>\n",
              "      <th>patient_nbr</th>\n",
              "      <th>race</th>\n",
              "      <th>gender</th>\n",
              "      <th>age</th>\n",
              "      <th>admission_type_id</th>\n",
              "      <th>discharge_disposition_id</th>\n",
              "      <th>admission_source_id</th>\n",
              "      <th>time_in_hospital</th>\n",
              "      <th>num_lab_procedures</th>\n",
              "      <th>...</th>\n",
              "      <th>insulin</th>\n",
              "      <th>glyburide-metformin</th>\n",
              "      <th>glipizide-metformin</th>\n",
              "      <th>glimepiride-pioglitazone</th>\n",
              "      <th>metformin-rosiglitazone</th>\n",
              "      <th>metformin-pioglitazone</th>\n",
              "      <th>change</th>\n",
              "      <th>diabetesMed</th>\n",
              "      <th>readmitted</th>\n",
              "      <th>num_med_taken</th>\n",
              "    </tr>\n",
              "  </thead>\n",
              "  <tbody>\n",
              "    <tr>\n",
              "      <th>0</th>\n",
              "      <td>2278392</td>\n",
              "      <td>8222157</td>\n",
              "      <td>0.175078</td>\n",
              "      <td>0</td>\n",
              "      <td>-3.814395</td>\n",
              "      <td>6</td>\n",
              "      <td>25</td>\n",
              "      <td>1</td>\n",
              "      <td>-1.139563</td>\n",
              "      <td>-0.099080</td>\n",
              "      <td>...</td>\n",
              "      <td>0</td>\n",
              "      <td>0</td>\n",
              "      <td>0</td>\n",
              "      <td>0</td>\n",
              "      <td>0</td>\n",
              "      <td>0</td>\n",
              "      <td>0</td>\n",
              "      <td>0</td>\n",
              "      <td>0</td>\n",
              "      <td>-0.589412</td>\n",
              "    </tr>\n",
              "    <tr>\n",
              "      <th>1</th>\n",
              "      <td>149190</td>\n",
              "      <td>55629189</td>\n",
              "      <td>0.175078</td>\n",
              "      <td>0</td>\n",
              "      <td>-3.187345</td>\n",
              "      <td>1</td>\n",
              "      <td>1</td>\n",
              "      <td>7</td>\n",
              "      <td>-0.467185</td>\n",
              "      <td>0.818330</td>\n",
              "      <td>...</td>\n",
              "      <td>1</td>\n",
              "      <td>0</td>\n",
              "      <td>0</td>\n",
              "      <td>0</td>\n",
              "      <td>0</td>\n",
              "      <td>0</td>\n",
              "      <td>1</td>\n",
              "      <td>1</td>\n",
              "      <td>1</td>\n",
              "      <td>1.460334</td>\n",
              "    </tr>\n",
              "    <tr>\n",
              "      <th>2</th>\n",
              "      <td>64410</td>\n",
              "      <td>86047875</td>\n",
              "      <td>-1.465728</td>\n",
              "      <td>0</td>\n",
              "      <td>-2.560295</td>\n",
              "      <td>1</td>\n",
              "      <td>1</td>\n",
              "      <td>7</td>\n",
              "      <td>-0.803374</td>\n",
              "      <td>-1.628097</td>\n",
              "      <td>...</td>\n",
              "      <td>0</td>\n",
              "      <td>0</td>\n",
              "      <td>0</td>\n",
              "      <td>0</td>\n",
              "      <td>0</td>\n",
              "      <td>0</td>\n",
              "      <td>0</td>\n",
              "      <td>1</td>\n",
              "      <td>0</td>\n",
              "      <td>-0.589412</td>\n",
              "    </tr>\n",
              "    <tr>\n",
              "      <th>3</th>\n",
              "      <td>500364</td>\n",
              "      <td>82442376</td>\n",
              "      <td>0.175078</td>\n",
              "      <td>1</td>\n",
              "      <td>-1.933245</td>\n",
              "      <td>1</td>\n",
              "      <td>1</td>\n",
              "      <td>7</td>\n",
              "      <td>-0.803374</td>\n",
              "      <td>0.053822</td>\n",
              "      <td>...</td>\n",
              "      <td>1</td>\n",
              "      <td>0</td>\n",
              "      <td>0</td>\n",
              "      <td>0</td>\n",
              "      <td>0</td>\n",
              "      <td>0</td>\n",
              "      <td>1</td>\n",
              "      <td>1</td>\n",
              "      <td>0</td>\n",
              "      <td>1.460334</td>\n",
              "    </tr>\n",
              "    <tr>\n",
              "      <th>4</th>\n",
              "      <td>16680</td>\n",
              "      <td>42519267</td>\n",
              "      <td>0.175078</td>\n",
              "      <td>1</td>\n",
              "      <td>-1.306195</td>\n",
              "      <td>1</td>\n",
              "      <td>1</td>\n",
              "      <td>7</td>\n",
              "      <td>-1.139563</td>\n",
              "      <td>0.410593</td>\n",
              "      <td>...</td>\n",
              "      <td>0</td>\n",
              "      <td>0</td>\n",
              "      <td>0</td>\n",
              "      <td>0</td>\n",
              "      <td>0</td>\n",
              "      <td>0</td>\n",
              "      <td>1</td>\n",
              "      <td>1</td>\n",
              "      <td>0</td>\n",
              "      <td>-0.589412</td>\n",
              "    </tr>\n",
              "  </tbody>\n",
              "</table>\n",
              "<p>5 rows × 46 columns</p>\n",
              "</div>"
            ],
            "text/plain": [
              "   encounter_id  patient_nbr      race  gender       age  admission_type_id  \\\n",
              "0       2278392      8222157  0.175078       0 -3.814395                  6   \n",
              "1        149190     55629189  0.175078       0 -3.187345                  1   \n",
              "2         64410     86047875 -1.465728       0 -2.560295                  1   \n",
              "3        500364     82442376  0.175078       1 -1.933245                  1   \n",
              "4         16680     42519267  0.175078       1 -1.306195                  1   \n",
              "\n",
              "   discharge_disposition_id  admission_source_id  time_in_hospital  \\\n",
              "0                        25                    1         -1.139563   \n",
              "1                         1                    7         -0.467185   \n",
              "2                         1                    7         -0.803374   \n",
              "3                         1                    7         -0.803374   \n",
              "4                         1                    7         -1.139563   \n",
              "\n",
              "   num_lab_procedures  ...  insulin  glyburide-metformin  glipizide-metformin  \\\n",
              "0           -0.099080  ...        0                    0                    0   \n",
              "1            0.818330  ...        1                    0                    0   \n",
              "2           -1.628097  ...        0                    0                    0   \n",
              "3            0.053822  ...        1                    0                    0   \n",
              "4            0.410593  ...        0                    0                    0   \n",
              "\n",
              "   glimepiride-pioglitazone  metformin-rosiglitazone  metformin-pioglitazone  \\\n",
              "0                         0                        0                       0   \n",
              "1                         0                        0                       0   \n",
              "2                         0                        0                       0   \n",
              "3                         0                        0                       0   \n",
              "4                         0                        0                       0   \n",
              "\n",
              "   change  diabetesMed  readmitted  num_med_taken  \n",
              "0       0            0           0      -0.589412  \n",
              "1       1            1           1       1.460334  \n",
              "2       0            1           0      -0.589412  \n",
              "3       1            1           0       1.460334  \n",
              "4       1            1           0      -0.589412  \n",
              "\n",
              "[5 rows x 46 columns]"
            ]
          },
          "execution_count": 26,
          "metadata": {},
          "output_type": "execute_result"
        }
      ],
      "source": [
        "df.head()"
      ]
    },
    {
      "cell_type": "markdown",
      "metadata": {
        "id": "Z2EJ8Lup_0l3"
      },
      "source": [
        "## Export clean dataframe"
      ]
    },
    {
      "cell_type": "code",
      "execution_count": 27,
      "metadata": {
        "id": "y8nuyr0M_6JG"
      },
      "outputs": [],
      "source": [
        "# Al final exportamos dataset\n",
        "# df.to_csv('./dataset/final_data.csv', index=False)"
      ]
    },
    {
      "cell_type": "markdown",
      "metadata": {
        "id": "RPTkq6VCzCU_"
      },
      "source": [
        "# XGBoost Model"
      ]
    },
    {
      "cell_type": "markdown",
      "metadata": {
        "id": "6MRiuwMHztdA"
      },
      "source": [
        "Set of machine learning techniques used to improve the performance of predictive models. It works by training a series of weak models (usually decision trees) sequentially, where each model focuses on correcting the errors of the previous model."
      ]
    },
    {
      "cell_type": "markdown",
      "metadata": {
        "id": "C-QUaMid0KYr"
      },
      "source": [
        "### Generate and train model"
      ]
    },
    {
      "cell_type": "code",
      "execution_count": null,
      "metadata": {
        "colab": {
          "base_uri": "https://localhost:8080/"
        },
        "id": "QAJ1QWQylf3c",
        "outputId": "b54fa8a0-01aa-4dd2-ba50-05f034659467"
      },
      "outputs": [],
      "source": [
        "# Define target and features\n",
        "features = df.drop('readmitted', axis=1)\n",
        "target = df['readmitted']\n",
        "\n",
        "# Split data into training and testing sets\n",
        "X_train, X_test, Y_train, Y_test = train_test_split(features, target, test_size=0.2)\n",
        "\n",
        "# Further split training data into training and validation sets\n",
        "X_train, X_val, Y_train, Y_val = train_test_split(X_train, Y_train, test_size=0.2)\n",
        "\n",
        "# Define objective function\n",
        "def objective(trial):\n",
        "    params = {\n",
        "        'n_estimators': trial.suggest_int('n_estimators', 50, 200),\n",
        "        'max_depth': trial.suggest_int('max_depth', 3, 10),\n",
        "        'learning_rate': trial.suggest_loguniform('learning_rate', 0.01, 0.1),\n",
        "        # Add other hyperparameters you want to optimize\n",
        "    }\n",
        "    model = xgb.XGBClassifier(**params)\n",
        "    model.fit(X_train, Y_train, eval_set=[(X_val, Y_val)])\n",
        "    y_pred = model.predict(X_val)\n",
        "    accuracy = accuracy_score(Y_val, y_pred)\n",
        "    f1 = f1_score(Y_val, y_pred, average='weighted')\n",
        "    return accuracy\n",
        "\n",
        "# Define study\n",
        "study = optuna.create_study(direction='maximize')\n",
        "\n",
        "# Evaluate initial model\n",
        "initial_model = xgb.XGBClassifier()\n",
        "initial_model.fit(X_train, Y_train)\n",
        "initial_y_pred = initial_model.predict(X_val)\n",
        "initial_accuracy = accuracy_score(Y_val, initial_y_pred)\n",
        "initial_f1 = f1_score(Y_val, initial_y_pred, average='weighted')\n",
        "\n",
        "print(\"Initial Accuracy: \", initial_accuracy)\n",
        "print(\"Initial F1 Score: \", initial_f1)\n",
        "\n",
        "# Optimize hyperparameters\n",
        "study.optimize(objective, n_trials=10)\n",
        "\n",
        "# Get best hyperparameters\n",
        "best_params = study.best_params\n",
        "\n",
        "# Train model with best hyperparameters\n",
        "best_model = xgb.XGBClassifier(**best_params)\n",
        "best_model.fit(X_train, Y_train)\n",
        "\n",
        "# Evaluate on test set and print results\n",
        "y_pred = best_model.predict(X_test)\n",
        "acc = accuracy_score(Y_test, y_pred)\n",
        "mat = confusion_matrix(Y_test, y_pred)\n",
        "f1 = f1_score(Y_test, y_pred, average='weighted')\n",
        "print(\"Accuracy: \", acc)\n",
        "print(\"F1 score: \", f1)\n",
        "print(\"Confusion matrix: \\n\", mat)\n",
        "print('Overall report: \\n', classification_report(Y_test, y_pred))\n",
        "\n"
      ]
    },
    {
      "cell_type": "markdown",
      "metadata": {
        "id": "CblmVZSc0YLU"
      },
      "source": [
        "### Model Accuracy"
      ]
    },
    {
      "cell_type": "code",
      "execution_count": 29,
      "metadata": {
        "colab": {
          "base_uri": "https://localhost:8080/"
        },
        "id": "T16eyHXilf3d",
        "outputId": "3e228740-46d4-4966-84d6-8a31ed4c7642"
      },
      "outputs": [
        {
          "data": {
            "text/plain": [
              "{'n_estimators': 167, 'max_depth': 5, 'learning_rate': 0.09122786604641796}"
            ]
          },
          "execution_count": 29,
          "metadata": {},
          "output_type": "execute_result"
        }
      ],
      "source": [
        "best_params"
      ]
    },
    {
      "cell_type": "code",
      "execution_count": 30,
      "metadata": {
        "colab": {
          "base_uri": "https://localhost:8080/"
        },
        "id": "GQOeFBGllf3d",
        "outputId": "367346b6-ae23-4bc8-d88d-62ac6f703ed2"
      },
      "outputs": [
        {
          "name": "stdout",
          "output_type": "stream",
          "text": [
            "\n",
            "Optimized Model:\n",
            "Accuracy:  0.6691222374828318\n",
            "F1 Score:  0.6683092077041901\n"
          ]
        }
      ],
      "source": [
        "# Print optimized model performance\n",
        "print(\"\\nOptimized Model:\")\n",
        "y_pred_opt = best_model.predict(X_val)\n",
        "acc_opt = accuracy_score(Y_val, y_pred_opt)\n",
        "f1_opt = f1_score(Y_val, y_pred_opt, average='weighted')\n",
        "print(\"Accuracy: \", acc_opt)\n",
        "print(\"F1 Score: \", f1_opt)"
      ]
    },
    {
      "cell_type": "markdown",
      "metadata": {},
      "source": [
        "### Feature relevance"
      ]
    },
    {
      "cell_type": "code",
      "execution_count": 31,
      "metadata": {
        "colab": {
          "base_uri": "https://localhost:8080/",
          "height": 644
        },
        "id": "l0Z6kX2elf3e",
        "outputId": "40cb31cf-46b1-4393-cf19-1374a9b7aea6"
      },
      "outputs": [
        {
          "data": {
            "text/plain": [
              "Text(0.5, 1.0, 'XGBoost -- Top 10 Important Features')"
            ]
          },
          "execution_count": 31,
          "metadata": {},
          "output_type": "execute_result"
        },
        {
          "data": {
            "image/png": "[encoded data removed]",
            "text/plain": [
              "<Figure size 1900x1100 with 1 Axes>"
            ]
          },
          "metadata": {},
          "output_type": "display_data"
        }
      ],
      "source": [
        "# Features\n",
        "feature_names = X_train.columns\n",
        "feature_imports = best_model.feature_importances_\n",
        "most_imp_features = pd.DataFrame([f for f in zip(feature_names, feature_imports)],\n",
        "                                 columns=[\"Feature\", \"Importance\"]).nlargest(10, \"Importance\")\n",
        "most_imp_features.sort_values(by=\"Importance\", inplace=True)\n",
        "plt.figure(figsize=(19, 11))\n",
        "plt.rc('xtick',labelsize=22)\n",
        "plt.barh(range(len(most_imp_features)), most_imp_features.Importance, align='center', alpha=0.8)\n",
        "plt.yticks(range(len(most_imp_features)), most_imp_features.Feature, fontsize=14)\n",
        "plt.xlabel('Importance', fontsize=25)\n",
        "plt.title('XGBoost -- Top 10 Important Features', fontsize=25)"
      ]
    },
    {
      "cell_type": "markdown",
      "metadata": {
        "id": "wxmhM34905Ic"
      },
      "source": [
        "### Prediction example"
      ]
    },
    {
      "cell_type": "code",
      "execution_count": 32,
      "metadata": {
        "id": "zfHE3Mg7lf3f"
      },
      "outputs": [],
      "source": [
        "def prediction(patient_data):\n",
        "\n",
        "    # Convert the Series to a NumPy array\n",
        "    patient_data_array = np.array(patient_data)\n",
        "\n",
        "    # Reshape the array\n",
        "    patient_data_reshaped = patient_data_array.reshape(1, -1)\n",
        "\n",
        "    # Make the prediction\n",
        "    pred = best_model.predict(patient_data_reshaped)\n",
        "    return pred"
      ]
    },
    {
      "cell_type": "code",
      "execution_count": 33,
      "metadata": {
        "id": "Y7qExyswlf3f"
      },
      "outputs": [],
      "source": [
        "fila = df.iloc[12].drop('readmitted')"
      ]
    },
    {
      "cell_type": "code",
      "execution_count": 34,
      "metadata": {
        "colab": {
          "base_uri": "https://localhost:8080/"
        },
        "id": "vBz1PGKRlf3f",
        "outputId": "ed4b7400-527c-4aca-e326-d1ed8e8889a0"
      },
      "outputs": [
        {
          "data": {
            "text/plain": [
              "array([1])"
            ]
          },
          "execution_count": 34,
          "metadata": {},
          "output_type": "execute_result"
        }
      ],
      "source": [
        "prediction(fila)"
      ]
    },
    {
      "cell_type": "markdown",
      "metadata": {
        "id": "D0yWUTjo7FDl"
      },
      "source": [
        "# SVM Model"
      ]
    },
    {
      "cell_type": "markdown",
      "metadata": {
        "id": "Lkx4WSfx70Ke"
      },
      "source": [
        "The SVM searches for a hyperplane that optimally separates the points of one class from the other, which may have previously been projected to a space of higher dimensionality.\n",
        "\n",
        "This concept of \"optimal separation\" is where the fundamental characteristic of SVMs lies: this type of algorithms search for the hyperplane that has the maximum distance (margin) with the points that are closest to itself. This is also why SVMs are sometimes known as maximum margin classifiers. In this way, the points of the vector that are labeled with one category will be on one side of the hyperplane and the cases that are in the other category will be on the other side."
      ]
    },
    {
      "cell_type": "markdown",
      "metadata": {
        "id": "evjVfum58_0R"
      },
      "source": [
        "### Split data"
      ]
    },
    {
      "cell_type": "code",
      "execution_count": 35,
      "metadata": {
        "id": "xP5hipEm9Crk"
      },
      "outputs": [],
      "source": [
        "# Split variable and target features\n",
        "X_svm = df[['encounter_id', 'patient_nbr', 'race', 'gender', 'age',\n",
        "       'admission_type_id', 'discharge_disposition_id', 'admission_source_id',\n",
        "       'time_in_hospital', 'num_lab_procedures', 'num_procedures',\n",
        "       'num_medications', 'number_outpatient', 'number_emergency',\n",
        "       'number_inpatient', 'diag_1', 'diag_2', 'diag_3', 'number_diagnoses',\n",
        "       'max_glu_serum', 'A1Cresult', 'metformin', 'repaglinide', 'nateglinide',\n",
        "       'chlorpropamide', 'glimepiride', 'acetohexamide', 'glipizide',\n",
        "       'glyburide', 'tolbutamide', 'pioglitazone', 'rosiglitazone', 'acarbose',\n",
        "       'miglitol', 'troglitazone', 'tolazamide', 'insulin',\n",
        "       'glyburide-metformin', 'glipizide-metformin',\n",
        "       'glimepiride-pioglitazone', 'metformin-rosiglitazone',\n",
        "       'metformin-pioglitazone', 'change', 'diabetesMed',\n",
        "       'num_med_taken']]\n",
        "y_svm = df['readmitted']"
      ]
    },
    {
      "cell_type": "code",
      "execution_count": null,
      "metadata": {
        "id": "I8ILvyKA9Pyt"
      },
      "outputs": [],
      "source": [
        "# Split train and test data\n",
        "Xsvm_train, Xsvm_test, ysvm_train, ysvm_test = train_test_split(X_svm, y_svm, test_size=0.9, random_state=42)"
      ]
    },
    {
      "cell_type": "markdown",
      "metadata": {
        "id": "i3xf9uXd95N9"
      },
      "source": [
        "### Standarization"
      ]
    },
    {
      "cell_type": "code",
      "execution_count": 37,
      "metadata": {
        "id": "ab588O5p94H8"
      },
      "outputs": [],
      "source": [
        "# Standarize data\n",
        "scaler = StandardScaler()\n",
        "Xsvm_train_scaled = scaler.fit_transform(Xsvm_train)\n",
        "Xsvm_test_scaled = scaler.transform(Xsvm_test)"
      ]
    },
    {
      "cell_type": "markdown",
      "metadata": {
        "id": "am3mkhz6-GV3"
      },
      "source": [
        "### Generate model"
      ]
    },
    {
      "cell_type": "code",
      "execution_count": 38,
      "metadata": {
        "id": "zpykj6uE-K5B"
      },
      "outputs": [],
      "source": [
        "# Create SVM model\n",
        "svm_clf = SVC(kernel='linear')\n",
        "# Train model\n",
        "svm_clf.fit(Xsvm_train_scaled, ysvm_train)"
      ]
    },
    {
      "cell_type": "markdown",
      "metadata": {
        "id": "-LmQ9ddX_LBC"
      },
      "source": [
        "### Prediction"
      ]
    },
    {
      "cell_type": "code",
      "execution_count": 40,
      "metadata": {
        "id": "qRm0qN25_NPb"
      },
      "outputs": [],
      "source": [
        "\n",
        "predicciones_svm = svm_clf.predict(Xsvm_test_scaled)"
      ]
    },
    {
      "cell_type": "markdown",
      "metadata": {
        "id": "AvFkT2Xh_Q0J"
      },
      "source": [
        "### Accuracy score"
      ]
    },
    {
      "cell_type": "code",
      "execution_count": 41,
      "metadata": {
        "colab": {
          "base_uri": "https://localhost:8080/"
        },
        "id": "D7wS-BH2_cgU",
        "outputId": "c2153d15-7fa1-48b0-e364-981bcab70b68"
      },
      "outputs": [
        {
          "name": "stdout",
          "output_type": "stream",
          "text": [
            "SVM accuracy: 0.6219491892251856\n"
          ]
        }
      ],
      "source": [
        "precision_svm = accuracy_score(ysvm_test, predicciones_svm)\n",
        "print(\"SVM accuracy:\", precision_svm)"
      ]
    },
    {
      "cell_type": "markdown",
      "metadata": {
        "id": "K2gMfKy0-5Qh"
      },
      "source": [
        "# Logistic regression\n",
        "This type of statistical model (also known as logit model) is often used for classification and predictive analytics. Logistic regression estimates the probability of an event occurring, such as voted or didn’t vote, based on a given dataset of independent variables. Since the outcome is a probability, the dependent variable is bounded between 0 and 1. In logistic regression, a logit transformation is applied on the odds—that is, the probability of success divided by the probability of failure."
      ]
    },
    {
      "cell_type": "markdown",
      "metadata": {
        "id": "-_c5el-hAlmd"
      },
      "source": [
        "### Split data: target and features"
      ]
    },
    {
      "cell_type": "code",
      "execution_count": 43,
      "metadata": {
        "id": "BUAQkP5MAWLI"
      },
      "outputs": [],
      "source": [
        "# Define target and features\n",
        "features = df.drop('readmitted', axis=1)\n",
        "target = df['readmitted']\n",
        "\n",
        "# Split data into training and testing sets\n",
        "Xrf_train, Xrf_test, yrf_train, yrf_test = train_test_split(features, target, test_size=0.2)\n",
        "\n",
        "# Further split training data into training and validation sets\n",
        "Xrf_train, Xrf_val, yrf_train, Yrf_val = train_test_split(Xrf_train, yrf_train, test_size=0.2)"
      ]
    },
    {
      "cell_type": "markdown",
      "metadata": {
        "id": "Df3_O5M_BQDl"
      },
      "source": [
        "### Objetives\n",
        "\n",
        "The objective function is created to be able to work on the parameters of the model"
      ]
    },
    {
      "cell_type": "code",
      "execution_count": 44,
      "metadata": {
        "id": "unzb8VtdBdGA"
      },
      "outputs": [],
      "source": [
        "# Define your objective function with Optuna\n",
        "def objective(trial):\n",
        "    # Suggest hyperparameters\n",
        "    lr = trial.suggest_float(\"learning_rate\", 0.001, 1.0)\n",
        "    C = trial.suggest_uniform(\"C\", 1e-5, 1e5)\n",
        "\n",
        "    # Create the model with suggested hyperparameters\n",
        "    model = LogisticRegression(solver=\"liblinear\", random_state=42, C=C, penalty=\"l2\", tol=1e-4)\n",
        "\n",
        "    # Train the model\n",
        "    model.fit(Xrf_train, yrf_train)\n",
        "\n",
        "    # Make predictions on the validation set\n",
        "    yrf_pred = model.predict(Xrf_val)\n",
        "\n",
        "    # Evaluate model performance and return negative accuracy (Optuna minimizes)\n",
        "    accuracy = accuracy_score(Yrf_val, yrf_pred)\n",
        "    return accuracy"
      ]
    },
    {
      "cell_type": "markdown",
      "metadata": {
        "id": "_UMmSo-NB7WA"
      },
      "source": [
        "### Optimization\n"
      ]
    },
    {
      "cell_type": "code",
      "execution_count": null,
      "metadata": {
        "colab": {
          "base_uri": "https://localhost:8080/"
        },
        "id": "R_GupnRrB-F9",
        "outputId": "6634741b-2a29-4ca8-c1de-38ee3d24f5e8"
      },
      "outputs": [],
      "source": [
        "# Create Optuna study\n",
        "study = optuna.create_study(direction=\"minimize\")\n",
        "\n",
        "# Run the optimization\n",
        "study.optimize(objective, n_trials=20)\n",
        "\n",
        "# Get the best trial and hyperparameters\n",
        "best_trial = study.best_trial\n",
        "best_params = best_trial.params\n",
        "\n",
        "# Print the best hyperparameters and accuracy\n",
        "print(\"Best hyperparameters:\", best_params)\n",
        "print(\"Best accuracy:\", -best_trial.value)  # Convert negative accuracy back to positive"
      ]
    },
    {
      "cell_type": "markdown",
      "metadata": {
        "id": "7R2r3_-oCYsM"
      },
      "source": [
        "### Optimized  model"
      ]
    },
    {
      "cell_type": "code",
      "execution_count": 46,
      "metadata": {
        "id": "NVn8ps_kCbxY"
      },
      "outputs": [],
      "source": [
        "# Create a new logistic regression model with best hyperparameters\n",
        "best_model = LogisticRegression(solver=\"liblinear\", random_state=42, **{k: v for k, v in best_params.items() if k != 'learning_rate'})"
      ]
    },
    {
      "cell_type": "markdown",
      "metadata": {
        "id": "uo-QIyuBCg_x"
      },
      "source": [
        "### Train\n"
      ]
    },
    {
      "cell_type": "code",
      "execution_count": 47,
      "metadata": {
        "colab": {
          "base_uri": "https://localhost:8080/",
          "height": 75
        },
        "id": "oz1OqFfGCj2Y",
        "outputId": "efa8a2d0-5687-4844-d87c-a1db2c5a6fdc"
      },
      "outputs": [
        {
          "data": {
            "text/html": [
              "<style>#sk-container-id-2 {color: black;background-color: white;}#sk-container-id-2 pre{padding: 0;}#sk-container-id-2 div.sk-toggleable {background-color: white;}#sk-container-id-2 label.sk-toggleable__label {cursor: pointer;display: block;width: 100%;margin-bottom: 0;padding: 0.3em;box-sizing: border-box;text-align: center;}#sk-container-id-2 label.sk-toggleable__label-arrow:before {content: \"▸\";float: left;margin-right: 0.25em;color: #696969;}#sk-container-id-2 label.sk-toggleable__label-arrow:hover:before {color: black;}#sk-container-id-2 div.sk-estimator:hover label.sk-toggleable__label-arrow:before {color: black;}#sk-container-id-2 div.sk-toggleable__content {max-height: 0;max-width: 0;overflow: hidden;text-align: left;background-color: #f0f8ff;}#sk-container-id-2 div.sk-toggleable__content pre {margin: 0.2em;color: black;border-radius: 0.25em;background-color: #f0f8ff;}#sk-container-id-2 input.sk-toggleable__control:checked~div.sk-toggleable__content {max-height: 200px;max-width: 100%;overflow: auto;}#sk-container-id-2 input.sk-toggleable__control:checked~label.sk-toggleable__label-arrow:before {content: \"▾\";}#sk-container-id-2 div.sk-estimator input.sk-toggleable__control:checked~label.sk-toggleable__label {background-color: #d4ebff;}#sk-container-id-2 div.sk-label input.sk-toggleable__control:checked~label.sk-toggleable__label {background-color: #d4ebff;}#sk-container-id-2 input.sk-hidden--visually {border: 0;clip: rect(1px 1px 1px 1px);clip: rect(1px, 1px, 1px, 1px);height: 1px;margin: -1px;overflow: hidden;padding: 0;position: absolute;width: 1px;}#sk-container-id-2 div.sk-estimator {font-family: monospace;background-color: #f0f8ff;border: 1px dotted black;border-radius: 0.25em;box-sizing: border-box;margin-bottom: 0.5em;}#sk-container-id-2 div.sk-estimator:hover {background-color: #d4ebff;}#sk-container-id-2 div.sk-parallel-item::after {content: \"\";width: 100%;border-bottom: 1px solid gray;flex-grow: 1;}#sk-container-id-2 div.sk-label:hover label.sk-toggleable__label {background-color: #d4ebff;}#sk-container-id-2 div.sk-serial::before {content: \"\";position: absolute;border-left: 1px solid gray;box-sizing: border-box;top: 0;bottom: 0;left: 50%;z-index: 0;}#sk-container-id-2 div.sk-serial {display: flex;flex-direction: column;align-items: center;background-color: white;padding-right: 0.2em;padding-left: 0.2em;position: relative;}#sk-container-id-2 div.sk-item {position: relative;z-index: 1;}#sk-container-id-2 div.sk-parallel {display: flex;align-items: stretch;justify-content: center;background-color: white;position: relative;}#sk-container-id-2 div.sk-item::before, #sk-container-id-2 div.sk-parallel-item::before {content: \"\";position: absolute;border-left: 1px solid gray;box-sizing: border-box;top: 0;bottom: 0;left: 50%;z-index: -1;}#sk-container-id-2 div.sk-parallel-item {display: flex;flex-direction: column;z-index: 1;position: relative;background-color: white;}#sk-container-id-2 div.sk-parallel-item:first-child::after {align-self: flex-end;width: 50%;}#sk-container-id-2 div.sk-parallel-item:last-child::after {align-self: flex-start;width: 50%;}#sk-container-id-2 div.sk-parallel-item:only-child::after {width: 0;}#sk-container-id-2 div.sk-dashed-wrapped {border: 1px dashed gray;margin: 0 0.4em 0.5em 0.4em;box-sizing: border-box;padding-bottom: 0.4em;background-color: white;}#sk-container-id-2 div.sk-label label {font-family: monospace;font-weight: bold;display: inline-block;line-height: 1.2em;}#sk-container-id-2 div.sk-label-container {text-align: center;}#sk-container-id-2 div.sk-container {/* jupyter's `normalize.less` sets `[hidden] { display: none; }` but bootstrap.min.css set `[hidden] { display: none !important; }` so we also need the `!important` here to be able to override the default hidden behavior on the sphinx rendered scikit-learn.org. See: https://github.com/scikit-learn/scikit-learn/issues/21755 */display: inline-block !important;position: relative;}#sk-container-id-2 div.sk-text-repr-fallback {display: none;}</style><div id=\"sk-container-id-2\" class=\"sk-top-container\"><div class=\"sk-text-repr-fallback\"><pre>LogisticRegression(C=60442.66955975438, random_state=42, solver=&#x27;liblinear&#x27;)</pre><b>In a Jupyter environment, please rerun this cell to show the HTML representation or trust the notebook. <br />On GitHub, the HTML representation is unable to render, please try loading this page with nbviewer.org.</b></div><div class=\"sk-container\" hidden><div class=\"sk-item\"><div class=\"sk-estimator sk-toggleable\"><input class=\"sk-toggleable__control sk-hidden--visually\" id=\"sk-estimator-id-2\" type=\"checkbox\" checked><label for=\"sk-estimator-id-2\" class=\"sk-toggleable__label sk-toggleable__label-arrow\">LogisticRegression</label><div class=\"sk-toggleable__content\"><pre>LogisticRegression(C=60442.66955975438, random_state=42, solver=&#x27;liblinear&#x27;)</pre></div></div></div></div></div>"
            ],
            "text/plain": [
              "LogisticRegression(C=60442.66955975438, random_state=42, solver='liblinear')"
            ]
          },
          "execution_count": 47,
          "metadata": {},
          "output_type": "execute_result"
        }
      ],
      "source": [
        "# Train the best model on full training data\n",
        "best_model.fit(Xrf_train, yrf_train)"
      ]
    },
    {
      "cell_type": "markdown",
      "metadata": {
        "id": "pcwlOnHCCqy-"
      },
      "source": [
        "### Test and Evaluate"
      ]
    },
    {
      "cell_type": "code",
      "execution_count": 49,
      "metadata": {
        "colab": {
          "base_uri": "https://localhost:8080/"
        },
        "id": "-8jWrViYA2Wj",
        "outputId": "24b03b05-7565-4d4f-c836-12c8b905a5d5"
      },
      "outputs": [
        {
          "name": "stdout",
          "output_type": "stream",
          "text": [
            "LR accuracy on testing set: 0.56492857856358\n"
          ]
        }
      ],
      "source": [
        "# Evaluate the best model on the testing set\n",
        "yrf_pred = best_model.predict(Xrf_test)\n",
        "accuracy = accuracy_score(yrf_test, yrf_pred)\n",
        "print(\"LR accuracy on testing set:\", accuracy)\n"
      ]
    },
    {
      "cell_type": "markdown",
      "metadata": {
        "id": "zEAoKPcYC477"
      },
      "source": [
        "### Insights\n",
        "\n",
        "The precision of the LR model is 0.56. This means that for every prediction made by the model it is lower than the XGBoost model, therefore we rule out the use of this model."
      ]
    }
  ],
  "metadata": {
    "colab": {
      "provenance": [],
      "toc_visible": true
    },
    "kernelspec": {
      "display_name": "base",
      "language": "python",
      "name": "python3"
    },
    "language_info": {
      "codemirror_mode": {
        "name": "ipython",
        "version": 3
      },
      "file_extension": ".py",
      "mimetype": "text/x-python",
      "name": "python",
      "nbconvert_exporter": "python",
      "pygments_lexer": "ipython3",
      "version": "3.10.9"
    }
  },
  "nbformat": 4,
  "nbformat_minor": 0
}
